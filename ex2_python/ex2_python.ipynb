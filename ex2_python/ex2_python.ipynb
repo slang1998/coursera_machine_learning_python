{
 "cells": [
  {
   "cell_type": "markdown",
   "metadata": {},
   "source": [
    "# Programming Exercise 2: Logistic Regression\n",
    "\n",
    "```\n",
    "by Seokkyu Kong\n",
    "Date: 2016-03-18\n",
    "Summary: 코세라 기계학습 강의 연습문제 2번을 Octave에서 Python으로 code migration 한다.\n",
    "```\n",
    "\n",
    "[Coursera의 machine learning 강의(Andrew Ng 교수)](https://www.coursera.org/learn/machine-learning/) 내용 중 과제를 Octave에서 Python으로 변환한다.\n"
   ]
  },
  {
   "cell_type": "markdown",
   "metadata": {},
   "source": [
    "## Introduction\n",
    "\n",
    "여기서는 logistic regression 을 구현한다. 과제 중 ex2.m 과 ex2_reg.m 을 변환한다.\n",
    "\n",
    "* plotData.m - Function to plot 2D classification data\n",
    "* sigmoid.m - Sigmoid Function\n",
    "* costFunction.m - Logistic Regression Cost Function\n",
    "* predict.m - Logistic Regression Prediction Function\n",
    "* costFunctionReg.m - Regularized Logistic Regression Cost"
   ]
  },
  {
   "cell_type": "markdown",
   "metadata": {},
   "source": [
    "## 1. Logistic Regression\n",
    "\n",
    "연습문제에서, 학생들의 대학입학 승인을 예측하기 위한 logistic regression model 를 구축한다. 2가지 시험점수와 승인결과를 가진 training example을 가지고 응시자의 합격 확률을 측정하는 분류 모델을 구축하는 것이 목표이다.\n"
   ]
  },
  {
   "cell_type": "code",
   "execution_count": 1,
   "metadata": {
    "collapsed": false
   },
   "outputs": [
    {
     "name": "stdout",
     "output_type": "stream",
     "text": [
      "Populating the interactive namespace from numpy and matplotlib\n"
     ]
    }
   ],
   "source": [
    "%pylab inline"
   ]
  },
  {
   "cell_type": "code",
   "execution_count": 2,
   "metadata": {
    "collapsed": false
   },
   "outputs": [],
   "source": [
    "# 패키지를 로딩한다.\n",
    "import numpy as np\n",
    "import pandas as pd\n",
    "import matplotlib.pyplot as plt\n"
   ]
  },
  {
   "cell_type": "code",
   "execution_count": 3,
   "metadata": {
    "collapsed": false
   },
   "outputs": [],
   "source": [
    "# load data\n",
    "data = pd.read_csv('ex2data1.txt', header=None)\n",
    "data = np.array(data)\n",
    "X = data[:, 0:2]\n",
    "y = data[:, 2]\n"
   ]
  },
  {
   "cell_type": "markdown",
   "metadata": {},
   "source": [
    "## EX2\n",
    "\n",
    "### Part 1: Plotting\n",
    "\n",
    "1.1 Visualizing the data\n",
    "\n",
    "학습 알고리즘을 구현하기 전에 가능하면 자료를 비쥬얼화 해보는 것은 항상 좋은 일이다. 긍정과 부정은 서로 다른 마커를 가지고 표시된다."
   ]
  },
  {
   "cell_type": "code",
   "execution_count": 4,
   "metadata": {
    "collapsed": false
   },
   "outputs": [
    {
     "name": "stdout",
     "output_type": "stream",
     "text": [
      "Plotting data with + indicating (y = 1) examples and o indicating (y = 0) examples.\n",
      "\n"
     ]
    },
    {
     "data": {
      "text/plain": [
       "<matplotlib.legend.Legend at 0x1e6de383160>"
      ]
     },
     "execution_count": 4,
     "metadata": {},
     "output_type": "execute_result"
    },
    {
     "data": {
      "image/png": "[encoded data removed]",
      "text/plain": [
       "<matplotlib.figure.Figure at 0x1e6de383128>"
      ]
     },
     "metadata": {},
     "output_type": "display_data"
    }
   ],
   "source": [
    "def plotData(X, y):\n",
    "    # *******************************************************************\n",
    "    # XXX: 논리값 비교 시 아래와 같이 사용하지 않는다. nonzero()를 사용한다.\n",
    "    # pos = (y == 1)\n",
    "    # neg = (y == 0)\n",
    "    # *******************************************************************\n",
    "    pos = nonzero(y == 1) # Admitted\n",
    "    neg = nonzero(y == 0)\n",
    "\n",
    "    plt.plot(X[pos, 0], X[pos, 1], 'k+', label='Admitted')\n",
    "    plt.plot(X[neg, 0], X[neg, 1], 'ko', color='y', label='Not admitted')\n",
    "    \n",
    "\n",
    "print('Plotting data with + indicating (y = 1) examples and o \\\n",
    "indicating (y = 0) examples.\\n')\n",
    "\n",
    "plotData(X, y)\n",
    "\n",
    "plt.xlabel('Exam 1 score')\n",
    "plt.ylabel('Exam 2 score')\n",
    "plt.legend(('Admitted', 'Not admitted'), loc='upper right')\n"
   ]
  },
  {
   "cell_type": "markdown",
   "metadata": {},
   "source": [
    "### Part 2: Compute Cost and Gradient"
   ]
  },
  {
   "cell_type": "code",
   "execution_count": 5,
   "metadata": {
    "collapsed": false
   },
   "outputs": [],
   "source": [
    "# data array의 크기를 조회한다.\n",
    "m, n = np.shape(X)\n",
    "\n",
    "# 절편 항목을 추가한다.\n",
    "X_1 = hstack((np.ones((m, 1)), X))\n",
    "\n",
    "# 파라미터를 초기화한다. 절편이 추가되니까 n + 1을 해준다.\n",
    "initial_theta = np.zeros(n+1)"
   ]
  },
  {
   "cell_type": "code",
   "execution_count": 6,
   "metadata": {
    "collapsed": false
   },
   "outputs": [
    {
     "name": "stdout",
     "output_type": "stream",
     "text": [
      "sigmoid(10) = 0.999954602131, sigmoid(-10) = 4.53978687024e-05, sigmoid(0) = 0.5\n"
     ]
    }
   ],
   "source": [
    "def sigmoid(z):\n",
    "    \"\"\"\n",
    "    큰 양의 값에 대해서는 결과값이 1에 가깝고, \n",
    "    큰 음수의 값에 대해서는 0에 가깝다.\n",
    "    simoid(0) = 0.5\n",
    "    \"\"\"\n",
    "    g = 1 / (1  + np.exp(-z))\n",
    "    \n",
    "    return g\n",
    "\n",
    "print('sigmoid(10) = %s, sigmoid(-10) = %s, sigmoid(0) = %s' \n",
    "      % (sigmoid(10), sigmoid(-10), sigmoid(0)))"
   ]
  },
  {
   "cell_type": "code",
   "execution_count": 7,
   "metadata": {
    "collapsed": false
   },
   "outputs": [
    {
     "name": "stdout",
     "output_type": "stream",
     "text": [
      "4.68316654981\n",
      "[ 0.31722075  0.87231544  1.6481235   2.23787228]\n"
     ]
    },
    {
     "data": {
      "text/plain": [
       "'\\n% results\\nj = 4.6832\\n\\ng =\\n  0.31722\\n  0.87232\\n  1.64812\\n  2.23787\\n'"
      ]
     },
     "execution_count": 7,
     "metadata": {},
     "output_type": "execute_result"
    }
   ],
   "source": [
    "def costFunction(theta, X, y):\n",
    "    \"\"\"\n",
    "    cost J와 gradient를 계산한다.\n",
    "    \"\"\"\n",
    "    m, n = X.shape\n",
    "    \n",
    "    \"\"\"\n",
    "    XXX: \n",
    "        1) array 에서 * 는 요소곱을 나타낸다. 행렬곱은 .dot() 함수를 사용한다.\n",
    "        2) matrix에서 * 는 행렬곱을 나타낸다. 요소곱은 .multiply() 함수를 사용한다.\n",
    "        3) 함수 안에서는 matrix 연산으로 통일한다.\n",
    "    \"\"\"\n",
    "    predictions = sigmoid(X.dot(theta))\n",
    "    \n",
    "    # cost J를 구한다.\n",
    "    J = 1/m * sum(-y * log(predictions) - (1 - y) * log(1 - predictions))\n",
    "    \n",
    "    # gradient를 구한다.\n",
    "    errors = predictions - y\n",
    "\n",
    "    delta = 1/m * errors.T.dot(X)\n",
    "    grad = delta\n",
    "    \n",
    "    return J, grad\n",
    "\n",
    "# Test Script\n",
    "X1 = np.array([[1, 8, 1, 6],\n",
    "    [1, 3, 5, 7],\n",
    "    [1, 4, 9, 2]]);\n",
    "y1 = np.array([1, 0, 1]);\n",
    "theta1 = np.array([-2, -1, 1, 2]);\n",
    "\n",
    "j, r = costFunction(theta1, X1, y1)\n",
    "print(j)\n",
    "print (r)\n",
    "\n",
    "\"\"\"\n",
    "% results\n",
    "j = 4.6832\n",
    "\n",
    "g =\n",
    "  0.31722\n",
    "  0.87232\n",
    "  1.64812\n",
    "  2.23787\n",
    "\"\"\"\n"
   ]
  },
  {
   "cell_type": "code",
   "execution_count": 8,
   "metadata": {
    "collapsed": false
   },
   "outputs": [
    {
     "name": "stdout",
     "output_type": "stream",
     "text": [
      "Cost at initial theta (zeros): 0.693147 \n",
      "\n",
      "Gradient at initial theta (zeros): \n",
      "\n",
      "[ -0.1        -12.00921659 -11.26284221]\n"
     ]
    }
   ],
   "source": [
    "# initial_theta가 모두 0일 경우의 cost, gradient를 구한다.\n",
    "cost, grad = costFunction(initial_theta, X_1, y)\n",
    "\n",
    "# Cost at initial theta (zeros): 0.693147 \n",
    "print('Cost at initial theta (zeros): %f \\n' % cost)\n",
    "\n",
    "print('Gradient at initial theta (zeros): \\n')\n",
    "# [[ -0.1        -12.00921659 -11.26284221]]\n",
    "print('%s' % grad)"
   ]
  },
  {
   "cell_type": "markdown",
   "metadata": {},
   "source": [
    "### Part 3: Optimizing using fminunc"
   ]
  },
  {
   "cell_type": "code",
   "execution_count": 9,
   "metadata": {
    "collapsed": false
   },
   "outputs": [
    {
     "name": "stdout",
     "output_type": "stream",
     "text": [
      "Cost at theta found by fminunc: 0.203497701589. \n",
      "\n",
      "theta: [-25.16131863   0.20623159   0.20147149]. \n",
      "\n"
     ]
    }
   ],
   "source": [
    "\"\"\"\n",
    "http://stackoverflow.com/questions/18801002/fminunc-alternate-in-numpy\n",
    "http://docs.scipy.org/doc/scipy-0.10.0/reference/tutorial/optimize.html\n",
    "http://docs.scipy.org/doc/scipy/reference/generated/scipy.optimize.minimize.html#scipy.optimize.minimize\n",
    "\n",
    "# 아래 stackoverflow 내용 중 소스코드가 많은 도움이 되었다.\n",
    "http://stackoverflow.com/questions/18801002/fminunc-alternate-in-numpy (*****)\n",
    "http://www.johnwittenauer.net/machine-learning-exercises-in-python-part-3/ (***)\n",
    "\"\"\"\n",
    "\n",
    "# minimize 함수 호출을 사용하기 위해 import 한다.\n",
    "import scipy.optimize as op\n",
    "\n",
    "# octave 에서는 costFunction 안에서 cost와 gradient를 한꺼번에 계산했다.\n",
    "# python 에서는 minimize () 사용을 위해서 cost와 gradient 계산을 분리한다.\n",
    "\n",
    "def myCost(theta, X, y):\n",
    "    \"\"\"\n",
    "    cost J를 계산한다.\n",
    "    \"\"\"\n",
    "    \n",
    "    m, n = X.shape\n",
    "    # 아래와 같은 방식으로 사용하지 말자.\n",
    "    #theta1 = theta.reshape(len(theta), 1, order='F').copy()\n",
    "\n",
    "    predictions = X.dot(theta)\n",
    "    sig_term = sigmoid(predictions)\n",
    "    \n",
    "    # 원본 수식\n",
    "    J = 1/m * np.sum(-y * log(sig_term) - (1 - y) * log(1 - sig_term))\n",
    "    \n",
    "    return J\n",
    "\n",
    "def myGradient(theta, X, y):\n",
    "    \"\"\"\n",
    "    gradient를 계산한다.\n",
    "    \"\"\"\n",
    "    m, n = np.shape(X)\n",
    "\n",
    "    # errors 의 차원을 확인해야 한다. predictions과 동일한 차원인지 확인한다.\n",
    "    # dim(predictions) = dim(erros) = dim(y) = m x 1\n",
    "    predictions = sigmoid(X.dot(theta))\n",
    "    errors = predictions - y\n",
    "    \n",
    "    delta = 1/m * errors.T.dot(X) # => 1 x n\n",
    "    grad = delta\n",
    "\n",
    "    # ********************************************************************\n",
    "    # XXX: 함수내에서 gradient 반환은 array 타입으로 반환하는 것이 중요하다.\n",
    "    # return format: array([ -0.1       , -12.00921659, -11.26284221])\n",
    "    # ********************************************************************\n",
    "    return grad\n",
    "\n",
    "\n",
    "Result = op.minimize(fun = myCost, x0 = initial_theta, args = (X_1, y), method = 'TNC'\n",
    "                     , jac = myGradient);\n",
    "#Result = op.fmin_tnc(func = myCost, x0 = initial_theta, fprime = myGradient, args = (X_1, y))\n",
    "\n",
    "cost = Result.fun\n",
    "theta = Result.x\n",
    "\n",
    "# Cost at theta found by fminunc: 0.203497701589. \n",
    "print('Cost at theta found by fminunc: %s. \\n' % cost)\n",
    "\n",
    "# theta: [-25.16131861   0.20623159   0.20147149]\n",
    "print('theta: %s. \\n' % theta)\n",
    "\n",
    "\n",
    "# XXX: 아래 방식 fmin_bfgs()는 잘못된 결과가 나오는데, \n",
    "# 어떤 부분이 잘못되었는지 모르겠다. 추후 검토 필요함\n",
    "#Result = op.fmin_bfgs(f = myCost, x0 = initial_theta, args = (X_1, y), maxiter = 400, fprime = myGradient)\n",
    "#print (myCost(Result[0], X_1, y))"
   ]
  },
  {
   "cell_type": "code",
   "execution_count": 10,
   "metadata": {
    "collapsed": false
   },
   "outputs": [
    {
     "data": {
      "image/png": "[encoded data removed]",
      "text/plain": [
       "<matplotlib.figure.Figure at 0x1e6df261908>"
      ]
     },
     "metadata": {},
     "output_type": "display_data"
    }
   ],
   "source": [
    "def plotDecisionBoundary(theta, X, y):\n",
    "    plotData(X[:, 1:3], y)\n",
    "    \n",
    "    if np.size(X, 1) <= 3:\n",
    "        # line을 정의하기 위해서는 단지 2개의 점만 필요하다. \n",
    "        plot_x = np.array([np.min(X[:, 1]) - 2, np.max(X[:, 1] + 2)])\n",
    "        \n",
    "        # ***************************************************************\n",
    "        # XXX: decision boundary line을 계산한다.\n",
    "        # theta0 + theta1 * x + theta2 * y = 0\n",
    "        # ***************************************************************\n",
    "        plot_y = (-1 / theta[2]) * (theta[1] * plot_x + theta[0])\n",
    "        \n",
    "        # plot을 그린다.\n",
    "        plot(plot_x, plot_y)\n",
    "        \n",
    "        # Legend를 표시한다.\n",
    "        plt.legend(('Admitted', 'Not admitted'), loc='upper right')\n",
    "        \n",
    "    \n",
    "    # 변환 작업 중\n",
    "    else:\n",
    "        # grid range를 설정한다. linspace는 octave, python 동일한 사용법임\n",
    "        u = linspace(-1, 1.5, 50)\n",
    "        v = linspace(-1, 1.5, 50)\n",
    "        \n",
    "        z = np.zeros((np.size(u), np.size(v)))\n",
    "        \n",
    "        # z = theta * x 를 grid 상에서 평가한다.\n",
    "        for i in np.arange(np.size(u)):\n",
    "            for j in np.arange(np.size(v)):\n",
    "                z[i, j] = np.sum(mapFeature(u[i], v[j]) * theta)\n",
    "                \n",
    "        # contour를 호출하기 전에 transpose하는 것이 중요하다.\n",
    "        z = z.T\n",
    "        # Plot z = 0\n",
    "        # range를 [0, 0]으로 할 필요가 있다.\n",
    "        plt.contour(u, v, z)\n",
    "     \n",
    "     \n",
    "\n",
    "plotDecisionBoundary(theta, X_1, y)\n"
   ]
  },
  {
   "cell_type": "markdown",
   "metadata": {},
   "source": [
    "### Part 4: Predict and Accuracies\n",
    "\n",
    "파라미터를 학습한 이후에 여태껏 본적 없는 데이터에 대해서 결과를 예측하기 위해 모델을 사용할 수 있다. 시험 1에 대해서 45점, 시험 2에 대해서 85점을 받은 학생이 학교의 승인을 받을 확률을 계산할 수 있다.\n",
    "\n",
    "predict 함수는 주어진 데이터와 theta를 이용해서 1 또는 0의 예측값을 만들어낸다."
   ]
  },
  {
   "cell_type": "code",
   "execution_count": 14,
   "metadata": {
    "collapsed": false
   },
   "outputs": [
    {
     "name": "stdout",
     "output_type": "stream",
     "text": [
      "Train Accuracy:  89.0\n"
     ]
    }
   ],
   "source": [
    "# 확률이 50% 를 넘으므로, 합격으로 예측한다.\n",
    "# array 에서 * 는 요소곱이다. 따라서 np.sum 을 이용해 곱의 합을 구한다.\n",
    "\n",
    "\n",
    "\n",
    "def predict(theta, X):\n",
    "    \"\"\"\n",
    "    파라미터 theta와 X 에 의한 결과값을 예측한다.\n",
    "    \"\"\"\n",
    "    p = sigmoid(X.dot(theta)) >= 0.5;\n",
    "    \n",
    "    return p\n",
    "    \n",
    "# training set 에 대한 정확도(accuracy)를 계산한다.\n",
    "# Train Accuracy: 89.000000\n",
    "p = predict(theta, X_1)\n",
    "\n",
    "print('Train Accuracy: ', np.mean(double(p == y)) * 100)"
   ]
  },
  {
   "cell_type": "markdown",
   "metadata": {
    "collapsed": true
   },
   "source": [
    "## 2. Regularized logistic regression\n",
    "\n",
    "연습문제의 이 부분에서는 제조공정의 마이크로칩이 QA를 통과할지 대한 여부를 예측하게 된다. QA 동안, 마이크로칩은 기능이 올바르게 동작하는지 확인하기 위해 여러가지 테스트를 거친다.\n",
    "\n",
    "당신이 공장의 제품 매니저라고 가정하자. 2개의 서로 다른 테스트 결과로부터 마이크로칩이 통과할지 그렇지 않을지를 결정하고 싶어한다. 의사결정을 돕기 위해 과거 테스트 결과 데이터셋을 가지고 있고 그것을 이용해서 logistic regression model 을 구축할 수 있다.\n",
    "\n",
    "ex2_reg.m 스크립트를 사용해서 나머지 연습문제를 해결한다."
   ]
  },
  {
   "cell_type": "markdown",
   "metadata": {},
   "source": [
    "### 2.1 Visualizing the data\n",
    "\n",
    "이전 연습문제와 비슷하게 plotData는 Figure 3.과 같은 그림을 만들기 위해 사용된다. positive 는 y=1 이고 accept 된것을 의미한다. negative 는 y=0 이고 reject 된 것을 의미한다.\n"
   ]
  },
  {
   "cell_type": "code",
   "execution_count": 15,
   "metadata": {
    "collapsed": false
   },
   "outputs": [
    {
     "data": {
      "text/plain": [
       "<matplotlib.legend.Legend at 0x1e6df2790b8>"
      ]
     },
     "execution_count": 15,
     "metadata": {},
     "output_type": "execute_result"
    },
    {
     "data": {
      "image/png": "[encoded data removed]",
      "text/plain": [
       "<matplotlib.figure.Figure at 0x1e6df05fa20>"
      ]
     },
     "metadata": {},
     "output_type": "display_data"
    }
   ],
   "source": [
    "import pandas as pd\n",
    "import numpy as np\n",
    "import matplotlib.pyplot as plt\n",
    "\n",
    "data = pd.read_csv('ex2data2.txt', header=None)\n",
    "data = np.array(data)\n",
    "X = data[:, 0:2]\n",
    "y = data[:, 2]\n",
    "\n",
    "plotData(X, y)\n",
    "plt.xlabel('Microchip Test 1')\n",
    "plt.ylabel('Microchip Test 2')\n",
    "plt.legend(('y=1', 'y=0'), loc='upper right')\n"
   ]
  },
  {
   "cell_type": "markdown",
   "metadata": {},
   "source": [
    "데이터가 직선으로 분리될 수 없음을 알 수 있다. 따라서 logistic regression 의 직선은 이 데이터에 적용할 수 없다.\n",
    "\n",
    "### 2.2 Feature mapping\n",
    "\n",
    "**data를 더 잘 맞게(fit) 하는 방법은 각각의 data point 로 부터 더 많은 feature를 생성하는 것이다.** 제공된 함수 mapFeature.m 에서 feature들을 다항식 항목인 x1과 x2를 이용해서 6차까지 매핑할 것이다.\n",
    "\n",
    "이 매핑의 결과로 2개의 feature로 이루어진 벡터는 28 dimension vector로 변환된다.\n",
    "\n",
    "고차원의 피처 벡터 상에서 훈련된 logistic regression classifier는 더 복잡한 decision boundary를 갖게 되고 **2차 평면에 그려질 때 nonlinear (직선이 아닌) 로 나타나게 된다.**\n",
    "\n",
    "**feature mapping 이 더욱 표현이 좋은 분류기를 구축하지만 반면에 overffiting 에 더욱 민감해 진다.** 연습문제의 나머지에서 regularized logistic regression 을 구현해서 data를 fit 하게 되고 regularization 이 어떻게 overffiting 과 싸우는데 도움이 되는지 직접 확인할 것이다.\n",
    "\n",
    "### 2.3 Cost function and gradient\n",
    "\n"
   ]
  },
  {
   "cell_type": "markdown",
   "metadata": {},
   "source": [
    "### Part 1: Regularized Logistric Regression\n"
   ]
  },
  {
   "cell_type": "code",
   "execution_count": 16,
   "metadata": {
    "collapsed": false
   },
   "outputs": [
    {
     "name": "stdout",
     "output_type": "stream",
     "text": [
      "[[  1.00000000e+00   5.12670000e-02   6.99560000e-01   2.62830529e-03\n",
      "    3.58643425e-02   4.89384194e-01   1.34745327e-04   1.83865725e-03\n",
      "    2.50892595e-02   3.42353606e-01   6.90798869e-06   9.42624411e-05\n",
      "    1.28625106e-03   1.75514423e-02   2.39496889e-01   3.54151856e-07\n",
      "    4.83255257e-06   6.59422333e-05   8.99809795e-04   1.22782870e-02\n",
      "    1.67542444e-01   1.81563032e-08   2.47750473e-07   3.38066048e-06\n",
      "    4.61305487e-05   6.29470940e-04   8.58939846e-03   1.17205992e-01]\n",
      " [  1.00000000e+00  -9.27420000e-02   6.84940000e-01   8.60107856e-03\n",
      "   -6.35227055e-02   4.69142804e-01  -7.97681228e-04   5.89122275e-03\n",
      "   -4.35092419e-02   3.21334672e-01   7.39785525e-05  -5.46363780e-04\n",
      "    4.03513411e-03  -2.98012201e-02   2.20094970e-01  -6.86091891e-06\n",
      "    5.06708697e-05  -3.74226408e-04   2.76382476e-03  -2.04120477e-02\n",
      "    1.50751849e-01   6.36295342e-07  -4.69931780e-06   3.47065055e-05\n",
      "   -2.56322636e-04   1.89305413e-03  -1.39810280e-02   1.03255971e-01]]\n"
     ]
    }
   ],
   "source": [
    "# Polynomial features를 추가한다.\n",
    "# mapFeature는 intercept term(절편 항목)인 1의 컬럼을 추가한다.\n",
    "\n",
    "def mapFeature(X1, X2):\n",
    "    \"\"\"\n",
    "    주어진 데이터를 다항식 항목의 feature로 갯수를 늘려준다.\n",
    "    \"\"\"\n",
    "    \n",
    "    degree = 6\n",
    "    \n",
    "    #print(X1.shape)\n",
    "    \n",
    "    m = np.size(X1)\n",
    "    out = np.ones(m) # 1로 채워진 절편 컬럼 벡터\n",
    "    \n",
    "    # XXX: 벡터 단위로 계산된 내용을 list에 추가하는 방식이 편하다.\n",
    "    # 계산된 컬럼 벡터를 list에 추가한다.\n",
    "    # res = [[1,1,1,], [2,2,2,], [3,3,3,]]\n",
    "    res = []\n",
    "    res.append(out)\n",
    "    \n",
    "    for i in np.arange(1, degree + 1):\n",
    "        for j in np.arange(0, i + 1):\n",
    "            # ***************************************************************\n",
    "            # XXX: 아래와 같은 수식은 어떻게 만드는걸까?\n",
    "            # ***************************************************************\n",
    "            out1 = (X1 ** (i - j)) * (X2 ** j)\n",
    "            res.append(out1)\n",
    "    \n",
    "    # list에 저장된 것을 2차원 array 벡터로 변환하고 전치 시켜서 반환한다.\n",
    "    return np.array(res).T\n",
    "\n",
    "# X_reg: 118 x 28 dimension, 절편이 포함되어 있다.\n",
    "X_reg = mapFeature(X[:, 0], X[:, 1])\n",
    "\n",
    "print(X_reg[0:2, :])"
   ]
  },
  {
   "cell_type": "markdown",
   "metadata": {
    "collapsed": true
   },
   "source": [
    "costFunctionReg.m 을 작성한다.\n",
    "\n",
    "주의사항: theta0를 regularize 하면 안된다."
   ]
  },
  {
   "cell_type": "code",
   "execution_count": 30,
   "metadata": {
    "collapsed": false
   },
   "outputs": [
    {
     "name": "stdout",
     "output_type": "stream",
     "text": [
      "cost is 0.69314718056 and grad is [  8.47457627e-03   1.87880932e-02   7.77711864e-05   5.03446395e-02\n",
      "   1.15013308e-02   3.76648474e-02   1.83559872e-02   7.32393391e-03\n",
      "   8.19244468e-03   2.34764889e-02   3.93486234e-02   2.23923907e-03\n",
      "   1.28600503e-02   3.09593720e-03   3.93028171e-02   1.99707467e-02\n",
      "   4.32983232e-03   3.38643902e-03   5.83822078e-03   4.47629067e-03\n",
      "   3.10079849e-02   3.10312442e-02   1.09740238e-03   6.31570797e-03\n",
      "   4.08503006e-04   7.26504316e-03   1.37646175e-03   3.87936363e-02]. \n",
      "\n"
     ]
    }
   ],
   "source": [
    "def costFunctionReg(theta, X, y, s_lambda):\n",
    "    \n",
    "    \"\"\"\n",
    "    regularization을 가진 logistic regression 의 cost와 gradient를 계산한다.\n",
    "    \"\"\"\n",
    "    \n",
    "    m, n = X.shape\n",
    "    #m = np.size(y) # training examples 갯수\n",
    "    \n",
    "    # 아래 값을 올바르게 반환해야 한다.\n",
    "    J = 0\n",
    "    grad = np.zeros(np.size(theta))\n",
    "    \n",
    "    \"\"\"\n",
    "    cost는 J 값으로 설정한다. 편미분을 계산하고 결과를 grad에 설정한다.\n",
    "    \n",
    "    힌트: cost 함수와 gradient 계산은 효율적으로 벡터화될 수 있다. 예를 들어 다음\n",
    "    계산을 생각해보자. \n",
    "    \n",
    "    sigmoid(X * theta)\n",
    "    \n",
    "    결과 행렬의 각 row는 해당 example의 예측값이 된다. \n",
    "    \n",
    "    힌트: regularized cost 함수의 gradient를 계산할 때, 많은 벡터화 솔루션이 있지만\n",
    "    한가지 가능한 방법은 아래와 같다\n",
    "    \n",
    "    grad = = (unregularized gradient for logistic regression)\n",
    "    temp = theta; \n",
    "    temp(1) = 0;   % because we don't add anything for j = 0  \n",
    "    grad = grad + YOUR_CODE_HERE (using the temp variable)\n",
    " \n",
    "    \"\"\"\n",
    "    \n",
    "    # sum_theta_square는 theta[0]를 포함하지 않는다. \n",
    "    sum_theta_square = np.sum(theta[1:] ** 2)\n",
    "    \n",
    "    # 예측값을 계산한다.\n",
    "    X_theta = X.dot(theta)\n",
    "    prediction = sigmoid(X_theta)\n",
    "\n",
    "    # cost J를 계산한다.\n",
    "    J = 1/m * np.sum(-y * log(prediction) - (1 - y) * log(1 - prediction)) \\\n",
    "        + s_lambda / (2 * m) * sum_theta_square\n",
    "        \n",
    "    # 편미분을 계산한다.\n",
    "    error = prediction - y\n",
    "    delta = 1/m * error.T.dot(X)\n",
    "    \n",
    "    temp = theta\n",
    "    temp[0] = 0\n",
    "    regular = (s_lambda / m) * temp\n",
    "    \n",
    "    grad = delta + regular\n",
    "    \n",
    "    return J, grad\n",
    "\n",
    "# initial_theta: 28 x 1\n",
    "initial_theta = np.zeros(X_reg.shape[1])\n",
    "\n",
    "# regularization 파라미터 lambda를 1로 설정한다.\n",
    "# lambda 는 python 키워드이기 때문에 변수명을 s_lambda로 사용한다.\n",
    "s_lambda = 1\n",
    "\n",
    "# regularized logistic regression 에 대한 초기 cost 와 gradient 를 구한다.\n",
    "cost, grad = costFunctionReg(initial_theta, X_reg, y, s_lambda)\n",
    "\n",
    "# cost is 0.69314718056 and grad is [  8.47457627e-03   1.87880932e-02   7.77711864e-05   5.03446395e-02\n",
    "print('cost is %s and grad is %s. \\n' % (cost, grad))\n",
    "\n"
   ]
  },
  {
   "cell_type": "code",
   "execution_count": 18,
   "metadata": {
    "collapsed": false
   },
   "outputs": [
    {
     "ename": "NameError",
     "evalue": "name 'myGradientReg' is not defined",
     "output_type": "error",
     "traceback": [
      "\u001b[1;31m---------------------------------------------------------------------------\u001b[0m",
      "\u001b[1;31mNameError\u001b[0m                                 Traceback (most recent call last)",
      "\u001b[1;32m<ipython-input-18-58e6acf7ccf9>\u001b[0m in \u001b[0;36m<module>\u001b[1;34m()\u001b[0m\n\u001b[0;32m     25\u001b[0m \u001b[1;31m# regularized\u001b[0m\u001b[1;33m\u001b[0m\u001b[1;33m\u001b[0m\u001b[0m\n\u001b[0;32m     26\u001b[0m \u001b[1;31m#j, g = costFunctionReg(thetat, Xt, yt, 3)\u001b[0m\u001b[1;33m\u001b[0m\u001b[1;33m\u001b[0m\u001b[0m\n\u001b[1;32m---> 27\u001b[1;33m \u001b[0mg\u001b[0m \u001b[1;33m=\u001b[0m \u001b[0mmyGradientReg\u001b[0m\u001b[1;33m(\u001b[0m\u001b[0mthetat\u001b[0m\u001b[1;33m,\u001b[0m \u001b[0mXt\u001b[0m\u001b[1;33m,\u001b[0m \u001b[0myt\u001b[0m\u001b[1;33m,\u001b[0m \u001b[1;36m3\u001b[0m\u001b[1;33m)\u001b[0m\u001b[1;33m\u001b[0m\u001b[0m\n\u001b[0m\u001b[0;32m     28\u001b[0m \u001b[1;31m# note: also works for ex3 lrCostFunction(theta, X, y, 3)\u001b[0m\u001b[1;33m\u001b[0m\u001b[1;33m\u001b[0m\u001b[0m\n\u001b[0;32m     29\u001b[0m \u001b[1;33m\u001b[0m\u001b[0m\n",
      "\u001b[1;31mNameError\u001b[0m: name 'myGradientReg' is not defined"
     ]
    }
   ],
   "source": [
    "\n",
    "Xt = np.array([[1, 8, 1, 6],\n",
    "    [1, 3, 5, 7],\n",
    "    [1, 4, 9, 2]])\n",
    "yt = np.array([1, 0, 1])\n",
    "thetat = np.array([-2, -1, 1, 2])\n",
    "\n",
    "j = 0\n",
    "g = 0\n",
    "# un-regularized\n",
    "#j, g = costFunctionReg(thetat, Xt, yt, 0)\n",
    "# note: also works for [j g] = costFunction(theta, X, y)\n",
    "\n",
    "#print(j, g)\n",
    "# results\n",
    "#j = 4.6832\n",
    "\n",
    "#g =\n",
    "#  0.31722\n",
    "#  0.87232\n",
    "#  1.64812\n",
    "#  2.23787\n",
    "\n",
    "\n",
    "# regularized\n",
    "#j, g = costFunctionReg(thetat, Xt, yt, 3)\n",
    "g = myGradientReg(thetat, Xt, yt, 3)\n",
    "# note: also works for ex3 lrCostFunction(theta, X, y, 3)\n",
    "\n",
    "print(j, g)\n",
    "# results\n",
    "#j = 7.6832\n",
    "\n",
    "#g =\n",
    "#  0.31722\n",
    "#  -0.12768\n",
    "#  2.64812\n",
    "#  4.23787\n",
    "\n"
   ]
  },
  {
   "cell_type": "markdown",
   "metadata": {
    "collapsed": true
   },
   "source": [
    "### Part 2: Regularization and Accuracies\n",
    "\n",
    "여기서는 lambda값을 서로 다르게 했을 때, regularization 이 decision boundary에 어떤 영향을 미치는지 알아보도록 한다.\n",
    "\n",
    "lambda를 0, 1, 10, 100으로 각각 설정해본다.\n",
    "\n",
    "이때 decision boundary와 training set의 accuracy가 어떻게 변화하는가?"
   ]
  },
  {
   "cell_type": "code",
   "execution_count": 28,
   "metadata": {
    "collapsed": false
   },
   "outputs": [
    {
     "name": "stdout",
     "output_type": "stream",
     "text": [
      "Cost at theta found by fminunc: 0.529002729964. \n",
      "\n",
      "theta: [ 1.27271027  0.62529965  1.18111686 -2.01987399 -0.91743189 -1.43166929\n",
      "  0.12393227 -0.36553118 -0.35725403 -0.17516291 -1.4581701  -0.05098418\n",
      " -0.61558552 -0.27469165 -1.19271297 -0.2421784  -0.20603297 -0.04466178\n",
      " -0.27778952 -0.29539513 -0.45645982 -1.04319155  0.02779373 -0.29244872\n",
      "  0.01555761 -0.32742406 -0.1438915  -0.92467487]. \n",
      "\n"
     ]
    }
   ],
   "source": [
    "# minimize 함수 호출을 사용하기 위해 import 한다.\n",
    "import scipy.optimize as op\n",
    "\n",
    "# octave 에서는 costFunction 안에서 cost와 gradient를 한꺼번에 계산했다.\n",
    "# python 에서는 minimize () 사용을 위해서 cost와 gradient 계산을 분리한다.\n",
    "\n",
    "def myCostReg(theta, X, y, s_lambda):\n",
    "    \"\"\"\n",
    "    cost J를 계산한다.\n",
    "    \"\"\"\n",
    "    # 출력될 값을 미리 선언한다.\n",
    "    J = 0\n",
    "    grad = np.zeros(np.size(theta))\n",
    "    \n",
    "    m, n = X.shape\n",
    "\n",
    "    # 1) cost J(theta) 값을 구한다.\n",
    "    # theta 는 array 타입이다. 따라서 요소 제곱합이 계산된다.\n",
    "    sum_theta_square = np.sum(theta[1:] ** 2)\n",
    "\n",
    "    # 예측값에 대한 sigmoid를 구한다.\n",
    "    predictions = sigmoid(X.dot(theta))\n",
    "    \n",
    "    # 비용 cost J를 구한다.\n",
    "    J = 1/m * np.sum(-y * log(predictions) - (1 - y) * log(1 - predictions)) \\\n",
    "        + s_lambda / (2 * m) * sum_theta_square\n",
    "    \n",
    "    return J\n",
    "\n",
    "def myGradientReg2(theta, X, y, s_lamdba):\n",
    "    j, g = costFunctionReg(theta, X, y, s_lambda)\n",
    "\n",
    "    return g\n",
    "\n",
    "def myGradientReg(theta, X, y, s_lambda):\n",
    "    \"\"\"\n",
    "    gradient를 계산한다.\n",
    "    \"\"\"    \n",
    "    # 출력될 값을 미리 선언한다.\n",
    "    J = 0\n",
    "    grad = np.zeros(np.size(theta))\n",
    "    \n",
    "    m, n = X.shape\n",
    "    \n",
    "    # 예측값에 대한 sigmoid를 구한다.\n",
    "    predictions = sigmoid(X.dot(theta))\n",
    "    \n",
    "    # 2) theta 편미분 값을 구한다.\n",
    "    # theta_0 에 대한 편미분값을 구한다.\n",
    "    errors = predictions - y\n",
    "    \n",
    "    # Part 1과 Part 2는 같은 식이지만, minimize 수행 시 \n",
    "    # 서로 다른 gradient를 가진다. 왜???? -_-;\n",
    "    \n",
    "    \"\"\"\n",
    "    # *****************************************\n",
    "    # Part 1: \n",
    "    delta = 1/m * errors.T.dot(X)\n",
    "    \n",
    "    temp = theta\n",
    "    temp[0] = 0\n",
    "    regular = (s_lambda / m) * temp\n",
    "    \n",
    "    grad = delta + regular\n",
    "    \"\"\" \n",
    "    \n",
    "    # *****************************************\n",
    "    # Part 2: \n",
    "    # 1) cost J(theta) 값을 구한다.\n",
    "    \n",
    "    theta_0 = theta[0]\n",
    "    theta_j = theta[1:]\n",
    "    \n",
    "    # 첫번째 컬럼 bias에 대해서 계산\n",
    "    delta_0 = 1/m * errors.T.dot(X[:, 0]) \n",
    "\n",
    "    # theta_j 에 대한 편미분값을 구한다.\n",
    "    delta_j = 1/m * errors.T.dot(X[:, 1:])\n",
    "    \n",
    "    # regularization term 계산\n",
    "    regular = s_lambda / m * theta_j    \n",
    "    delta_j = delta_j.T + regular\n",
    "    \n",
    "    grad[0] = delta_0\n",
    "    grad[1:] = delta_j.T\n",
    "    \n",
    "    #print(grad[0])\n",
    "    \n",
    "    return grad\n",
    "\n",
    "\n",
    "\n",
    "initial_theta = np.zeros(X_reg.shape[1])\n",
    "#s_lambda = 0 # cost = 0.257\n",
    "s_lambda = 1 # cost = 0.529\n",
    "#s_lambda = 10 # cost = 0.648\n",
    "#s_lambda = 100 # cost = 0.686\n",
    "\n",
    "Result = op.minimize(fun = myCostReg, x0 = initial_theta, args = (X_reg, y, s_lambda), \\\n",
    "                     method = 'TNC', jac = myGradientReg, options = {'maxiter': 400});\n",
    "\n",
    "cost = Result.fun\n",
    "theta = Result.x\n",
    "\n",
    "# In Octave: Cost at theta found by fminunc: 0.529004\n",
    "print('Cost at theta found by fminunc: %s. \\n' % cost)\n",
    "\n",
    "\"\"\"\n",
    "In Octave: \n",
    "theta: \n",
    " 1.273005 \n",
    " 0.624876 \n",
    " 1.177376 \n",
    " -2.020142 \n",
    " -0.912616 \n",
    " -1.429907 \n",
    "\"\"\"\n",
    "print('theta: %s. \\n' % theta)\n"
   ]
  },
  {
   "cell_type": "markdown",
   "metadata": {},
   "source": [
    "plotDecisionBoundary.m, we plot the non-linear decision boundary by com- puting the classifier’s predictions on an evenly spaced grid and then and drew a contour plot of where the predictions change from y = 0 to y = 1.\n",
    "\n",
    "plotDecisionBoundary.m 은 비선형 decision boundary를 그리는데, 평형공간상의 그리드에 분류자의 예측을 계산하고 y=0에서 y=1일 때의 예측 변화를 contour plot으로 그린다."
   ]
  },
  {
   "cell_type": "code",
   "execution_count": 29,
   "metadata": {
    "collapsed": false
   },
   "outputs": [
    {
     "data": {
      "text/plain": [
       "<matplotlib.legend.Legend at 0x1e6df3246d8>"
      ]
     },
     "execution_count": 29,
     "metadata": {},
     "output_type": "execute_result"
    },
    {
     "data": {
      "image/png": "[encoded data removed]",
      "text/plain": [
       "<matplotlib.figure.Figure at 0x1e6df324748>"
      ]
     },
     "metadata": {},
     "output_type": "display_data"
    }
   ],
   "source": [
    "# 경계선을 그린다.\n",
    "plotDecisionBoundary(theta, X_reg, y)\n",
    "plt.xlabel('Microchip Test 1')\n",
    "plt.ylabel('Microchip Test 2')\n",
    "# 경계선을 그린다.\n",
    "\n",
    "plt.legend(('y=1', 'y=0', 'Decision boundary'), loc='upper right')\n"
   ]
  },
  {
   "cell_type": "code",
   "execution_count": 84,
   "metadata": {
    "collapsed": false
   },
   "outputs": [
    {
     "name": "stdout",
     "output_type": "stream",
     "text": [
      "Train Accuracy: 0.533898305085\n"
     ]
    }
   ],
   "source": [
    "# training set에 대한 정확도(accuracy)를 계산한다.\n",
    "\n",
    "p = predict(theta, X_reg)\n",
    "\n",
    "# In Octave: Train Accuracy: 83.050847\n",
    "print('Train Accuracy: %s' % np.mean(double(p == y)))"
   ]
  },
  {
   "cell_type": "code",
   "execution_count": null,
   "metadata": {
    "collapsed": true
   },
   "outputs": [],
   "source": []
  }
 ],
 "metadata": {
  "kernelspec": {
   "display_name": "Python 3",
   "language": "python",
   "name": "python3"
  },
  "language_info": {
   "codemirror_mode": {
    "name": "ipython",
    "version": 3
   },
   "file_extension": ".py",
   "mimetype": "text/x-python",
   "name": "python",
   "nbconvert_exporter": "python",
   "pygments_lexer": "ipython3",
   "version": "3.5.1"
  }
 },
 "nbformat": 4,
 "nbformat_minor": 0
}
