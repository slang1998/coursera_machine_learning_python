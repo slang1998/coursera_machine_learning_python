{
 "cells": [
  {
   "cell_type": "markdown",
   "metadata": {},
   "source": [
    "# Programming Exercise 2: Logistic Regression\n",
    "\n",
    "```\n",
    "by Seokkyu Kong\n",
    "Date: 2016-03-18\n",
    "Summary: \n",
    "\n",
    "1) Andrew Ng 교수의 강의: https://www.coursera.org/learn/machine-learning/\n",
    "2) Coursera machine learning (Prof. Andrew Ng) 강의 내용과 assignment는 octave(matlab)으로 이루어진다. \n",
    "3) 복습차원에서 해당 코드를 python으로 구현해본다.\n",
    "4) 모든 내용(도표, 수식, 텍스트)은 강의 내용 및 과제에서 가져왔음을 알린다.\n",
    "```\n",
    "\n",
    "python 작업 시 참고한 자료: Numpy 와 MATLAB 비교\n",
    "\n",
    "- [Numpy for Matlab users #1](https://docs.scipy.org/doc/numpy-dev/user/numpy-for-matlab-users.html)\n",
    "- [NumPy for MATLAB users #2](http://mathesaurus.sourceforge.net/matlab-numpy.html)\n",
    "\n",
    "```\n",
    "http://stackoverflow.com/questions/18801002/fminunc-alternate-in-numpy\n",
    "http://docs.scipy.org/doc/scipy-0.10.0/reference/tutorial/optimize.html\n",
    "http://docs.scipy.org/doc/scipy/reference/generated/scipy.optimize.minimize.html#scipy.optimize.minimize\n",
    "\n",
    "# 아래 stackoverflow 내용 중 소스코드가 많은 도움이 되었다.\n",
    "http://stackoverflow.com/questions/18801002/fminunc-alternate-in-numpy (*****)\n",
    "http://www.johnwittenauer.net/machine-learning-exercises-in-python-part-3/ (***)\n",
    "```\n",
    "\n",
    "\n"
   ]
  },
  {
   "cell_type": "markdown",
   "metadata": {},
   "source": [
    "## Introduction\n",
    "\n",
    "이번 연습문제에서는, logistic regression 을 구현하고 2개의 서로 다른 데이터셋에 응용해본다. 프로그래밍 연습문제를 시작하기 전에, 비디오를 보고 관련된 토픽에 대한 리뷰 문제를 완성할 것을 강력히 권장한다.\n",
    "\n",
    "연습문제를 시작하면서, 스타터 코드를 다운로드 받고 내용을 디렉토리에 풀어서 연습 문제를 완성해야 한다.\n",
    "\n",
    "### Files included in this exercise\n",
    "\n",
    "* plotData.m - Function to plot 2D classification data\n",
    "* sigmoid.m - Sigmoid Function\n",
    "* costFunction.m - Logistic Regression Cost Function\n",
    "* predict.m - Logistic Regression Prediction Function\n",
    "* costFunctionReg.m - Regularized Logistic Regression Cost\n",
    "\n",
    "연습문제를 통해서, 스크립트 ex2.m과 ex2_reg.m을 사용할 것이다. 이들 스크립트는 문제에 대한 데이터셋을 설정하고 당신이 작성할 함수를 호출하게 된다. 이들 중 어떤 것도 수정할 필요는 없다. 단지 다른 파일에 있는 함수들만 수정하면 된다. 과제에 있는 지시사항을 따라라.\n",
    "\n",
    "### Where to get help"
   ]
  },
  {
   "cell_type": "markdown",
   "metadata": {},
   "source": [
    "## 1. Logistic Regression\n",
    "\n",
    "연습문제에서, **학생들의 대학입학 승인을 예측하기 위한 logistic regression model 를 구축한다.**\n",
    "\n",
    "당신이 대학 부서의 관리자라고 가정하자. 그리고 응시자의 승인 가능성을 2개 시험의 결과에 근거해서 결정하고 싶다고 하자. 당신은 이전 응시자들로부터 히스토리 데이터를 가지고 있는데 logistic regression의 training set으로 사용할 수 있다. 각각의 training example에 대해서, 2개 시험의 응시자의 점수와 승인 결정이 포함되어 있다.\n",
    "\n",
    "당신의 작업은 **2가지 시험점수와 승인결과를 가진 training example을 가지고 응시자의 합격 확률을 측정하는 분류 모델을 구축하는 것이 목표이다.**\n",
    "\n",
    "이것에 대한 개요와 ex2.m내의 프레임워크 코드는 연습문제를 통해서 당신을 안내해 줄것이다.\n"
   ]
  },
  {
   "cell_type": "markdown",
   "metadata": {},
   "source": [
    "### 1.1 Visualizing the data\n",
    "\n",
    "어떤 학습 알고리즘이라도 구현하기 전에 가능하면 자료를 비쥬얼화 해보는 것은 항상 좋은 일이다. ex2.m의 첫번째 파트에서, 코드는 데이터를 로드하고 plotData 함수를 호출해서 차원 plot 상에 그것을 표시한다.\n",
    "\n",
    "당신은 이제 plotData내의 코드를 완성해서 Figure 1 처럼 그림을 표시한다. 여기서 축은 2개 시험의 점수가 되고 긍정과 부정의 examples는 서로 다른 마커로 보여진다.\n",
    "\n",
    "Figure 1: Scatter plot of training data\n",
    "\n",
    "plotting에 좀더 익숙해지는데 도움이 되기 위해서, 우리는 plotData.m을 빈 상태로 두었다. 당신은 스스로 그것을 구현하도록 노력해야 한다. 어쨌든, 이것은 옵션 (평가되지 않는) 연습문제이다. 우리는 또한 우리의 구현을 아래처럼 제공한다. 당신은 그것을 복사하거나 참조할 수 있다. 만약 우리의 예제를 복사한다고 선택한다면, 각 명령어가 무엇을 하는지 Octave/MATLAB의 문서를 참고삼아서 배워야 한다.\n",
    "\n",
    "```\n",
    "% Find Indices of Positive and Negative Examples\n",
    "pos = find(y==1); neg = find(y == 0);\n",
    "% Plot Examples\n",
    "plot(X(pos, 1), X(pos, 2), 'k+','LineWidth', 2, ...\n",
    "     'MarkerSize', 7);\n",
    "plot(X(neg, 1), X(neg, 2), 'ko', 'MarkerFaceColor', 'y', ...\n",
    "     'MarkerSize', 7);\n",
    "```"
   ]
  },
  {
   "cell_type": "code",
   "execution_count": 1,
   "metadata": {
    "collapsed": false
   },
   "outputs": [
    {
     "name": "stdout",
     "output_type": "stream",
     "text": [
      "Populating the interactive namespace from numpy and matplotlib\n"
     ]
    }
   ],
   "source": [
    "%pylab inline\n",
    "\n",
    "# 패키지를 로딩한다.\n",
    "import numpy as np\n",
    "import matplotlib.pyplot as plt\n"
   ]
  },
  {
   "cell_type": "code",
   "execution_count": 2,
   "metadata": {
    "collapsed": false
   },
   "outputs": [],
   "source": [
    "## Machine Learning Online Class - Exercise 2: Logistic Regression\n",
    "    \n",
    "# 데이터를 로드한다.\n",
    "# 처음 2개의 컬럼은 시험 점수를 포함하고 세번째 컬럼은 라벨을 포함한다.\n",
    "data = np.loadtxt('ex2data1.txt', delimiter=',')\n",
    "data = np.array(data)\n",
    "X = data[:, 0:2]\n",
    "y = data[:, 2]\n"
   ]
  },
  {
   "cell_type": "code",
   "execution_count": 3,
   "metadata": {
    "collapsed": false
   },
   "outputs": [
    {
     "name": "stdout",
     "output_type": "stream",
     "text": [
      "Plotting data with + indicating (y = 1) examples and o indicating (y = 0) examples.\n",
      "\n"
     ]
    },
    {
     "data": {
      "text/plain": [
       "<matplotlib.legend.Legend at 0x288d3436828>"
      ]
     },
     "execution_count": 3,
     "metadata": {},
     "output_type": "execute_result"
    },
    {
     "data": {
      "image/png": "[encoded data removed]",
      "text/plain": [
       "<matplotlib.figure.Figure at 0x288d34367f0>"
      ]
     },
     "metadata": {},
     "output_type": "display_data"
    }
   ],
   "source": [
    "## ==================== Part 1: Plotting ====================\n",
    "# 우리는 데이터를 plotting하면서 연습문제를 시작하는데, 우리가 작업하는\n",
    "# 문제를 이해하기 위해서이다.\n",
    "\n",
    "def plotData(X, y):\n",
    "    \"\"\"\n",
    "    데이터 포인트 x와 y를 새로운 figure에 plot한다.\n",
    "    긍정 examples는 +로, 부정 examples는 o로 표시한다.\n",
    "    X는 Mx2 행렬이라고 가정한다.\n",
    "    \"\"\"\n",
    "    \n",
    "    # ====================== YOUR CODE HERE ======================\n",
    "    # 지시사항: 긍정과 부정 examples를 2D plot상에 표시하는데, 옵션 \n",
    "    # 'k+'는 긍정 examples에 그리고 'ko' 는 부정 examples에 사용한다.\n",
    "    \n",
    "    # 긍정과 부정 examples의 인덱스를 찾는다.\n",
    "    # *******************************************************************\n",
    "    # XXX: 인덱스를 찾을 경우, find() 또는 nonzero()를 사용한다.\n",
    "    # 이렇게 사용하지 말자: pos = (y == 1), neg = (y == 0)\n",
    "    # *******************************************************************    \n",
    "    pos = find(y == 1) # Admitted\n",
    "    neg = find(y == 0)\n",
    "\n",
    "    # examples를 plot한다.\n",
    "    plt.plot(X[pos, 0], X[pos, 1], 'k+')\n",
    "    plt.plot(X[neg, 0], X[neg, 1], 'ko', color='y', label='Not admitted')\n",
    "    \n",
    "\n",
    "print('Plotting data with + indicating (y = 1) examples and o \\\n",
    "indicating (y = 0) examples.\\n')\n",
    "\n",
    "plotData(X, y)\n",
    "\n",
    "# 몇몇 라벨을 표시한다.\n",
    "plt.xlabel('Exam 1 score')\n",
    "plt.ylabel('Exam 2 score')\n",
    "\n",
    "# plot 순서로 표시한다.\n",
    "plt.legend(('Admitted', 'Not admitted'), loc='upper right')\n"
   ]
  },
  {
   "cell_type": "markdown",
   "metadata": {},
   "source": [
    "### 1.2 Implementation\n",
    "\n",
    "#### 1.2.1 Warm exercise: sigmoid function\n",
    "\n",
    "실제 cost function을 가지고 시작하기 전에, logistic regression 의 hypothesis 가설이 다음처럼 정의됨을 기억하라:\n",
    "\n",
    "$ h_{\\theta}(x) = g(\\theta^{T}x) $,\n",
    "\n",
    "여기서 함수 g는 sigmoid 함수이다. sigmoid 함수는 다음처럼 정의된다:\n",
    "\n",
    "$ g(z) = \\frac{1}{1+e^{-z}} $.\n",
    "\n",
    "첫번째 단계는 sigmoid.m 내의 이 함수를 구현하는 것인데, 프로그램의 나머지 부분들에서 호출된다. 구현을 끝내면, sigmoid(x)를 호출하면서 몇몇 값을 Octave/MATLAB 명령어 라인에서 테스트해 보아라.\n",
    "\n",
    "**아주 큰 x의 양의 값에 대해서, sigmoid 는 1에 가까워야 하고, 반면에 아주 큰 음의 값에 대해서, sigmoid 는 0에 가까워야 한다. simoid(0)을 평가하면 정확히 0.5의 값을 주어야 한다.** \n",
    "\n",
    "당신의 코드는 벡터와 행렬에 대해서도 동작해야 한다. **행렬에 대해서, 당신의 함수는 각 요소에 대해서 sigmoid 함수를 수행해야 한다.**\n",
    "\n",
    "_You should now submit your solutions._"
   ]
  },
  {
   "cell_type": "code",
   "execution_count": 4,
   "metadata": {
    "collapsed": false
   },
   "outputs": [
    {
     "name": "stdout",
     "output_type": "stream",
     "text": [
      "sigmoid(10) = 0.999954602131, sigmoid(-10) = 4.53978687024e-05, sigmoid(0) = 0.5\n"
     ]
    }
   ],
   "source": [
    "## ============ Part 2: Compute Cost and Gradient ============\n",
    "# 연습문제의 이 부분에서, logistic regression에 대한 cost와 gradient\n",
    "# 를 구현할 것이다. costFunction.m 내의 코드를 완성할 필요가 있다.\n",
    "\n",
    "def sigmoid(z):\n",
    "    \"\"\"\n",
    "    큰 양의 값에 대해서는 결과값이 1에 가깝고, \n",
    "    큰 음수의 값에 대해서는 0에 가깝다.\n",
    "    simoid(0) = 0.5\n",
    "    \"\"\"\n",
    "    g = 1 / (1  + np.exp(-z))\n",
    "    \n",
    "    return g\n",
    "\n",
    "print('sigmoid(10) = %s, sigmoid(-10) = %s, sigmoid(0) = %s' \n",
    "      % (sigmoid(10), sigmoid(-10), sigmoid(0)))"
   ]
  },
  {
   "cell_type": "markdown",
   "metadata": {},
   "source": [
    "#### 1.2.2 Cost function and gradient\n",
    "\n",
    "이제 logistic regression에 대한 cost function과 gradient를 구현한다. costFunction.m 내의 코드를 완성하고 cost와 gradient를 반환해라.\n",
    "\n",
    "logistic regression의 cost function은 다음과 같음을 기억하라.\n",
    "\n",
    "[수식]\n",
    "\n",
    "그리고 cost의 gradient는 theta와 동일한 길이의 벡터인데, j-번째 요소(for j = 0, 1, ,,, n)은 다음처럼 정의된다:\n",
    "\n",
    "[수식]\n",
    "\n",
    "이 gradient가 linear regression gradient와 동일하게 보여짐을 주목하라. 공식은 실제로 다른데 linear와 logistic regression은 서로 다른 $ h_{\\theta}(x) $ 를 가지고 있기 때문이다.\n",
    "\n",
    "일단 완성하면, ex2.m은 costFunction을 호출하는데 초기 파라미터 theta를 사용한다.\n",
    "cost가 약 0.693임을 볼 수 있어야 한다."
   ]
  },
  {
   "cell_type": "code",
   "execution_count": 5,
   "metadata": {
    "collapsed": false
   },
   "outputs": [],
   "source": [
    "# You should now submit your solutions.\n",
    "\n",
    "# 데이터 행렬을 적절히 설정한다. 그리고 절편 항목을 위해서 1을 추가한다.\n",
    "# data array의 크기를 조회한다.\n",
    "m, n = np.shape(X)\n",
    "\n",
    "# 절편 항목을 X와 X_test에 추가한다.\n",
    "X_1 = hstack((np.ones((m, 1)), X))\n",
    "#X_1 = np.column_stack((np.ones(m), X))\n",
    "\n",
    "# 파라미터를 초기화한다. 절편이 추가되니까 n + 1을 해준다.\n",
    "initial_theta = np.zeros(n+1)"
   ]
  },
  {
   "cell_type": "code",
   "execution_count": 6,
   "metadata": {
    "collapsed": false
   },
   "outputs": [],
   "source": [
    "def costFunction(theta, X, y):\n",
    "    \"\"\"\n",
    "    logistic regression에 대한 cost와 graident를 계산한다.\n",
    "    cost를 계산하는데 logistic regression에 대한 파라미터로 theta를\n",
    "    사용한다. 그리고 cost에 대한 gradient를 계산한다.\n",
    "    \"\"\"\n",
    "    \n",
    "    # 몇몇 유용한 변수를 초기화 한다.\n",
    "    m, n = X.shape # m은 training examples 수이다.\n",
    "    \n",
    "    # 다음 변수를 올바르게 반환해야 한다.\n",
    "    J = 0\n",
    "    grad = np.zeros(np.size(theta))\n",
    "    \n",
    "    # ====================== YOUR CODE HERE ======================\n",
    "    # 지시사항: 특정 theta에 대한 cost를 계산한다.\n",
    "    # J를 cost로 설정한다.\n",
    "    # 편미분을 계산하고 cost에 대한 편미분을 grad에 설정한다.\n",
    "    \n",
    "    # Note: grad는 theta와 동일한 차원이다.\n",
    "    \n",
    "    \"\"\"\n",
    "    XXX: 1) array 에서 * 는 요소곱을 나타낸다. 행렬곱은 .dot() 함수를 사용한다.\n",
    "        2) matrix에서 * 는 행렬곱을 나타낸다. 요소곱은 .multiply() 함수를 사용한다.\n",
    "        3) 함수 안에서는 matrix 연산으로 통일한다.\n",
    "    \"\"\"\n",
    "    \n",
    "    prediction = sigmoid(X.dot(theta))\n",
    "    \n",
    "    # cost J를 구한다.\n",
    "    J = 1/m * sum(-y * log(prediction) - (1 - y) * log(1 - prediction))\n",
    "    \n",
    "    # gradient를 구한다.\n",
    "    error = prediction - y\n",
    "\n",
    "    delta = 1/m * error.T.dot(X)\n",
    "    grad = delta\n",
    "    \n",
    "    return J, grad\n",
    "\n"
   ]
  },
  {
   "cell_type": "code",
   "execution_count": 7,
   "metadata": {
    "collapsed": false
   },
   "outputs": [
    {
     "name": "stdout",
     "output_type": "stream",
     "text": [
      "Cost at initial theta (zeros): 0.693147 \n",
      "Gradient at initial theta (zeros): \n",
      "[ -0.1        -12.00921659 -11.26284221]\n",
      "\n"
     ]
    }
   ],
   "source": [
    "# 초기 cost와 gradient를 계산하고 표시한다.\n",
    "cost, grad = costFunction(initial_theta, X_1, y)\n",
    "\n",
    "print('Cost at initial theta (zeros): %f ' % cost)\n",
    "print('Gradient at initial theta (zeros): ')\n",
    "print('%s' % grad)\n",
    "\"\"\"\n",
    "In Octave/MATLAB: \n",
    "\n",
    "Cost at initial theta (zeros): 0.693147\n",
    "Gradient at initial theta (zeros): \n",
    " -0.100000 \n",
    " -12.009217 \n",
    " -11.262842 \n",
    "\"\"\"\n",
    "print()"
   ]
  },
  {
   "cell_type": "markdown",
   "metadata": {},
   "source": [
    "#### 1.2.3 Learning parameters using fminunc\n",
    "\n",
    "이전 과제에서, gradient descent를 구현해서 linear regression 모델에 대한 최적의 파라미터를 찾았다. 당신은 cost function 과 그것의 gradient를 계산하는 함수를 작성했다. 그리고 난 다음 gradient descent 를 단계적으로 수행했다. \n",
    "\n",
    "이번에, gradent descent steps을 취하는 대신, Octave/MATLAB의 내장 함수 fminunc를 사용할 것이다.\n",
    "\n",
    "**Octave/MATLAB의 fminunc는 uncontrained 함수의 최소값을 찾는 optimization solver 이다.**\n",
    "\n",
    "logistic regression에 대해서, 파라미터 theta를 가진 cost function J(theta)를 최적화 할 것이다.\n",
    "\n",
    "구체적으로, fminunc를 사용해서 주어진 데이터셋 (X와 y 값)에 대해서 logistic regression cost function에 대한 최적의 파라미터 theta를 찾을 것이다.\n",
    "\n",
    "- 우리가 최적화하려는 것은 파라미터의 초기 값이다.\n",
    "- 주어진 training set와 특정 theta가 있을 때 함수는 데이터셋 (X, y)를 위한 theta와 관련된 logistic regression cost와 gradient를 계산한다.\n",
    "\n",
    "ex2.m 에서, 우리는 이미 올바른 인자를 가지고 fminunc 를 호출하는 코드를 작성했다.\n",
    "\n",
    "**주석: 최적화에서 Constraints 는 종종 파라미터 상의 constraints를 언급하는데, 예를 들어 theta가 취할 수 있는 (즉, theta <= 1) 가능한 값의 경계가 constraints가 된다. Logistic regression 은 그와 같은 constraints를 가지고 있지 않은데, theta가 어떤 실수 값이라도 가질 수 있기 때문이다.**\n",
    "\n",
    "```\n",
    "% Set options for fminunc\n",
    "options = optimset('GradObj', 'on', 'MaxIter', 400);\n",
    "\n",
    "% Run fminunc to obtain the optimal theta\n",
    "% This function will return theta and the cost\n",
    "[theta, cost] = ...\n",
    "    fminunc(@(t)(costFunction(t, X, y)), initial theta, options);\n",
    "```\n",
    "\n",
    "이 코드 snippet에서, 우르는 먼저 fminunc와 함께 사용될 옵션을 정의했다. 특별히, 우리는 **GradObj 옵션을 on으로 설정했는데**, 그것은 **fminunc 에게 우리의 함수가 cost와 gradient 둘 다 반환함을** 알려주는 것이다. 이것은 fminunc 가 함수를 최소화할 때 gradient를 사용하게 해준다. 더우기, 우리는 **MaxIter 옵션을 400으로 설정했기 때문에, fminunc 는 함수가 종료되기 전에 최대 400 단계를 실행할 것이다.**\n",
    "\n",
    "우리가 최소화하려는 실제 함수를 지정하기 위해, **우리는 \"short-hand\"를 사용해서 @(t) ( costFunction(t, X, y) )를 가진 함수를** 지정한다. 이것은 **인자 t를 가진 함수를 생성하는데 당신의 costFunction을 호출하게 된다.**\n",
    "\n",
    "만약 당신이 costFunction을 올바르게 구현했다면, fminunc 는 올바른 최적화 파라미터로 수렴하고 cost 와 theta의 최종 값을 반환하게 된다.\n",
    "\n",
    "**fminunc를 사용하면서, 당신 스스로 어떤 loops도 작성하지 않고 또는 gradient descent를 위해서 했던것과 같이 learning rate도 설정하지 않음을 주목해라.**\n",
    "\n",
    "이것은 fminunc에 의해 모두 수행된다: 당신은 cost와 gradient를 계산하는 함수 하나를 제공하기만 하면 되는 것이다.\n",
    "\n",
    "일단 fminunc 가 완성되면, ex2.m은 당신의 costFunction 함수를 최적의 theta 파라미터로 호출할 것이다. cost가 약 0.203 임을 볼 수 있어야 한다.\n",
    "\n",
    "**최종 theta 값은 training data 상에서 decision boundary를 plot 하기 위해 사용되는데, Figure 2와 비슷한 결과가 될 것이다. 우리는 또한 plotDecisionBoundary.m 내의 코드를 보고 theta 값을 사용해서 그와 같은 경계선이 어떻게 plot 되는지 살펴보기를 권장한다.**\n",
    "\n"
   ]
  },
  {
   "cell_type": "markdown",
   "metadata": {},
   "source": [
    "#### 1.2.4 Evaluating logistic regression\n",
    "\n",
    "파라미터를 학습한 이후에, 당신은 특정 학생이 승인될 것인지 여부를 예측하기 위해서 모델을 사용할 수 있다. Exam 1의 점수가 45점, 그리고 Exam 2의 점수가 85점인 학생에 대해서, 승인될 확률이 0.776임을 기대해야 한다.\n",
    "\n",
    "**우리가 발견한 파라미터의 quality를 평가하기 위한 다른 방법으로 우리의 training set 상에서 학습된 모델이 얼마나 잘 예측하는지 보는 것이다.**\n",
    "\n",
    "Figure 2: Training data with decision boundary\n",
    "\n",
    "이 부분에서, 당신의 작업은 predict.m 내의 코드를 완성하는 것이다. predict 함수는 \"1\" 또는 \"0\"의 예측값을 주어진 dataset과 학습된 파라미터 벡터 theta를 이용해서 만들어낸다.\n",
    "\n",
    "predict.m내의 코드를 완성한 이후에, ex2.m 스크립트는 올바르게 맞춘 examples의 퍼센티지를 계산함으로써 당신의 classifier의 training 정확도를 리포트 할 것이다.\n",
    "\n",
    "_You should now submit your solutions._\n"
   ]
  },
  {
   "cell_type": "code",
   "execution_count": 8,
   "metadata": {
    "collapsed": false
   },
   "outputs": [
    {
     "name": "stdout",
     "output_type": "stream",
     "text": [
      "Cost at theta found by fminunc: 0.203497701589. \n",
      "\n",
      "theta: \n",
      "theta: [-25.1613187    0.20623159   0.20147149]. \n",
      "\n"
     ]
    }
   ],
   "source": [
    "## ============= Part 3: Optimizing using fminunc  =============\n",
    "# 이번 연습문제에서, 당신은 내장 함수 (fminunc) 를 사용해서 최적의 \n",
    "# theta 파라미터를 찾을 것이다.\n",
    "\n",
    "# minimize 함수 호출을 사용하기 위해 import 한다.\n",
    "import scipy.optimize as op\n",
    "\n",
    "# octave 에서는 costFunction 안에서 cost와 gradient를 한꺼번에 계산했다.\n",
    "# python 에서는 minimize () 사용을 위해서 cost와 gradient 계산을 분리한다.\n",
    "\n",
    "def myCost(theta, X, y):\n",
    "    \"\"\"\n",
    "    cost J를 계산한다.\n",
    "    \"\"\"\n",
    "    \n",
    "    m, n = X.shape\n",
    "    # 아래와 같은 방식으로 사용하지 말자.\n",
    "    #theta1 = theta.reshape(len(theta), 1, order='F').copy()\n",
    "\n",
    "    predictions = X.dot(theta)\n",
    "    sig_term = sigmoid(predictions)\n",
    "    \n",
    "    # 원본 수식\n",
    "    J = 1/m * np.sum(-y * log(sig_term) - (1 - y) * log(1 - sig_term))\n",
    "    \n",
    "    return J\n",
    "\n",
    "def myGradient(theta, X, y):\n",
    "    \"\"\"\n",
    "    gradient를 계산한다.\n",
    "    \"\"\"\n",
    "    m, n = np.shape(X)\n",
    "\n",
    "    # errors 의 차원을 확인해야 한다. predictions과 동일한 차원인지 확인한다.\n",
    "    # dim(predictions) = dim(erros) = dim(y) = m x 1\n",
    "    predictions = sigmoid(X.dot(theta))\n",
    "    errors = predictions - y\n",
    "    \n",
    "    delta = 1/m * errors.T.dot(X) # => 1 x n\n",
    "    grad = delta\n",
    "\n",
    "    # ********************************************************************\n",
    "    # XXX: 함수내에서 gradient 반환은 array 타입으로 반환하는 것이 중요하다.\n",
    "    # return format: array([ -0.1       , -12.00921659, -11.26284221])\n",
    "    # ********************************************************************\n",
    "    return grad\n",
    "\n",
    "\n",
    "# fminunc를 위해서 옵션을 설정한다.\n",
    "# options = optimset('GradObj', 'on', 'MaxIter', 400); # Octave Code\n",
    "\n",
    "costFunc = lambda p: costFunction(p, X_1, y)[0]\n",
    "gradFunc = lambda p: costFunction(p, X_1, y)[1]\n",
    "\n",
    "# 최적의 theta를 구하기 위해 fminunc를 실행한다.\n",
    "# 이 함수는 theta와 cost를 반환한다.\n",
    "\n",
    "# 방법 1) \n",
    "Result = op.minimize(fun = costFunc, x0 = initial_theta, method = 'TNC', jac = gradFunc)\n",
    "\n",
    "# 방법 2)\n",
    "#Result = op.minimize(fun = myCost, x0 = initial_theta, args = (X_1, y), method = 'TNC'\n",
    "#                     , jac = myGradient);\n",
    "\n",
    "# 방법 3)\n",
    "#Result = op.fmin_tnc(func = myCost, x0 = initial_theta, fprime = myGradient, args = (X_1, y))\n",
    "\n",
    "cost = Result.fun\n",
    "theta = Result.x\n",
    "\n",
    "# Cost at theta found by fminunc: 0.203497701589. \n",
    "# theta: [-25.16131861   0.20623159   0.20147149]\n",
    "print('Cost at theta found by fminunc: %s. \\n' % cost)\n",
    "print('theta: ')\n",
    "print('theta: %s. \\n' % theta)\n",
    "\n",
    "\n",
    "# XXX: 아래 방식 fmin_bfgs()는 잘못된 결과가 나오는데, \n",
    "# 어떤 부분이 잘못되었는지 모르겠다. 추후 검토 필요함\n",
    "#Result = op.fmin_bfgs(f = myCost, x0 = initial_theta, args = (X_1, y), maxiter = 400, fprime = myGradient)\n",
    "#print (myCost(Result[0], X_1, y))"
   ]
  },
  {
   "cell_type": "code",
   "execution_count": 9,
   "metadata": {
    "collapsed": false
   },
   "outputs": [
    {
     "data": {
      "text/plain": [
       "<matplotlib.legend.Legend at 0x288d424d898>"
      ]
     },
     "execution_count": 9,
     "metadata": {},
     "output_type": "execute_result"
    },
    {
     "data": {
      "image/png": "[encoded data removed]",
      "text/plain": [
       "<matplotlib.figure.Figure at 0x288d41f9b38>"
      ]
     },
     "metadata": {},
     "output_type": "display_data"
    }
   ],
   "source": [
    "def plotDecisionBoundary(theta, X, y):\n",
    "    \"\"\"\n",
    "    데이터 포인트 x와 y를 theta에 의해 정의된 decision boundary를 가진 새로운\n",
    "    figure 상으로 plot 한다.\n",
    "    이 함수는 data points를 plot하는데 positive exampes는 +로, negative exampels는 o로\n",
    "    표시한다. x는 다음 둘 중 하나로 가정한다.\n",
    "    1) Mx3 행렬, 첫번째 컬럼은 절편을 위한 1의 벡터로 구성됨\n",
    "    2) MxN, N > 3 행렬, 첫번째 컬럼은 모두 1로 구성됨\n",
    "    \"\"\"\n",
    "    \n",
    "    # 데이터를 plot 한다.\n",
    "    plotData(X[:, 1:3], y)\n",
    "    \n",
    "    if np.size(X, 1) <= 3:\n",
    "        # line을 정의하기 위해서는 단지 2개의 점만 필요하다. \n",
    "        # 따라서 2개의 endpoints를 선택한다.\n",
    "        plot_x = np.array([np.min(X[:, 1]) - 2, np.max(X[:, 1] + 2)])\n",
    "        \n",
    "        # ***************************************************************\n",
    "        # XXX: decision boundary line: theta0 + theta1 * x + theta2 * y = 0\n",
    "        # ***************************************************************\n",
    "        # decision boundary line을 계산한다.\n",
    "        plot_y = (-1 / theta[2]) * (theta[1] * plot_x + theta[0])\n",
    "        \n",
    "        # plot을 그린다. 그리고 더 좋은 뷰잉을 위해 축을 조정한다.\n",
    "        plot(plot_x, plot_y)\n",
    "        \n",
    "        # Legent, 연습문제를 위해 지정함\n",
    "        plt.legend(('Admitted', 'Not admitted'), loc='upper right')\n",
    "        plt.axis([30, 100, 30, 100])\n",
    "    \n",
    "    # 변환 작업 중\n",
    "    else:\n",
    "        # grid range를 설정한다. linspace는 octave, python 동일한 사용법임\n",
    "        u = linspace(-1, 1.5, 50) # 50,\n",
    "        v = linspace(-1, 1.5, 50)\n",
    "        \n",
    "        z = np.zeros((np.size(u), np.size(v)))\n",
    "        \n",
    "        # z = theta * x 를 grid 상에서 평가한다.\n",
    "        for i in np.arange(np.size(u)):\n",
    "            for j in np.arange(np.size(v)):\n",
    "                z[i, j] = np.sum(mapFeature(u[i], v[j]) * theta)\n",
    "                \n",
    "        z = z.T # contour를 호출하기 전에 transpose하는 것이 중요하다.\n",
    "        \n",
    "        # Plot z = 0\n",
    "        # range를 [0, 0]으로 할 필요가 있다.\n",
    "        # contour(u, v, z, [0, 0], 'LineWidth', 2); # Octave code\n",
    "        plt.contour(u, v, z)\n",
    "     \n",
    "     \n",
    "# 경계선을 plot 한다.\n",
    "plotDecisionBoundary(theta, X_1, y)\n",
    "# label과 Legend를 표시한다.\n",
    "plt.xlabel('Exam 1 score')\n",
    "plt.ylabel('Exam 2 score')\n",
    "\n",
    "# plot 순서대로 명시한다.\n",
    "plt.legend(('Admitted', 'Not admitted'), loc='upper right')\n",
    "\n"
   ]
  },
  {
   "cell_type": "markdown",
   "metadata": {},
   "source": [
    "\n"
   ]
  },
  {
   "cell_type": "code",
   "execution_count": 22,
   "metadata": {
    "collapsed": false
   },
   "outputs": [
    {
     "name": "stdout",
     "output_type": "stream",
     "text": [
      "For a student with scores 45 and 85, we predict an admission probability of 0.776291\n",
      "Train Accuracy: 89.000000\n",
      "\n"
     ]
    }
   ],
   "source": [
    "## ============== Part 4: Predict and Accuracies ==============\n",
    "# 파라미터를 학습한 이후에 여태껏 본적 없는 데이터에 대해서 결과를 예측하기 위해 모델을 사용할 수 있다. \n",
    "# 여기에서는, logtistic regression model을 사용해서, 시험 1에 대해서 45점, 시험 2에 대해서 85점을\n",
    "# 받은 학생이 학교의 승인을 받을 확률을 예측한다.\n",
    "#\n",
    "# 더우기, 당신은 우리의 모델에 대해서 training과 test set 의 정확도를 계산할 수 있다.\n",
    "#\n",
    "# 당신의 작업은 predict.m 내의 코드를 완성하는 것이다.\n",
    "\n",
    "\n",
    "# predict 함수는 주어진 데이터와 theta를 이용해서 1 또는 0의 예측값을 만들어낸다.\n",
    "# 확률이 50% 를 넘으므로, 합격으로 예측한다.\n",
    "# array 에서 * 는 요소곱이다. 따라서 np.sum 을 이용해 곱의 합을 구한다.\n",
    "def predict(theta, X):\n",
    "    \"\"\"\n",
    "    학습된 logistic regression 파라미터 theta를 이용해서 label 이 0 또는 1인지를 예측한다.\n",
    "    이 함수는 0.5에서의 threshold를 이용해서 X에 대한 예측을 계산한다.\n",
    "    (즉, 만약 sigmoid(theta'*x) >= 0.5, 1로 예측함)\n",
    "    \"\"\"\n",
    "    \n",
    "    m = X.shape[0] # training exampels의 개수\n",
    "    \n",
    "    # 다음 변수를 올바르게 반환해야 한다.\n",
    "    p = np.zeros(m)\n",
    "    \n",
    "    # ====================== YOUR CODE HERE ======================\n",
    "    # 지시사항: 다음 코드를 완성해서 학습된 logistic regression 파라미터를\n",
    "    # 이용한 예측을 해보아라.\n",
    "    # p는 0또는 1의 벡터로 설정되어야 한다.\n",
    "    \n",
    "    p = sigmoid(X.dot(theta)) >= 0.5;\n",
    "    \n",
    "    return p\n",
    "    \n",
    "\"\"\"\n",
    "In Octave/MATLAB: \n",
    "\n",
    "theta =\n",
    "\n",
    "  -25.16127\n",
    "    0.20623\n",
    "    0.20147\n",
    "\"\"\"\n",
    "# exam 1의 점수 45점과 exam 2의 점수 85점을 받은 학생에 대해서 예측한다.\n",
    "prob = sigmoid(np.sum(np.array([1, 45, 85]) * theta))\n",
    "\n",
    "print('For a student with scores 45 and 85, we predict an admission probability of %f' % prob)\n",
    "\n",
    "\n",
    "# training set 에 대한 정확도(accuracy)를 계산한다.\n",
    "# Train Accuracy: 89.000000\n",
    "p = predict(theta, X_1)\n",
    "\n",
    "print('Train Accuracy: %f' % (np.mean(double(p == y)) * 100))\n",
    "\n",
    "\"\"\"\n",
    "In Octave/MATLAB: \n",
    "\n",
    "For a student with scores 45 and 85, we predict an admission probability of 0.776289\n",
    "\n",
    "Train Accuracy: 89.000000\n",
    "\"\"\"\n",
    "print()"
   ]
  },
  {
   "cell_type": "markdown",
   "metadata": {
    "collapsed": true
   },
   "source": [
    "## 2. Regularized logistic regression\n",
    "\n",
    "연습문제의 이 부분에서는 **regularized logistic regression을 구현해서 제조공정의 마이크로칩이 QA를 통과할지 대한 여부를 예측하게 된다.** QA 동안, 마이크로칩은 기능이 올바르게 동작하는지 확인하기 위해 여러가지 테스트를 거친다.\n",
    "\n",
    "당신이 공장의 제품 매니저라고 가정하자. 그리고 2개의 서로 다른 테스트로부터 몇몇 마이크로칩에 대한 테스트 결과를 가지고 있다고 하자. 당신은 2개의 서로 다른 테스트 결과로부터 마이크로칩이 통과할지 그렇지 않을지를 결정하고 싶어한다. 의사결정을 돕기 위해 과거 테스트 결과 데이터셋을 가지고 있고 그것을 이용해서 logistic regression model 을 구축할 수 있다.\n",
    "\n",
    "ex2_reg.m 스크립트를 사용해서 나머지 연습문제를 해결한다."
   ]
  },
  {
   "cell_type": "markdown",
   "metadata": {},
   "source": [
    "### 2.1 Visualizing the data\n",
    "\n",
    "이전 연습문제와 비슷하게 plotData는 Figure 3.과 같은 그림을 만들기 위해 사용된다. 여기서 축은 2개의 테스트 점수이고, positive 는 y=1 이고 accept 된것을 의미한다. negative 는 y=0 이고 reject 된 것을 의미한다. 이들 examples는 서로 다른 마커로 보여진다.\n",
    "\n",
    "[Figure 3: Plot of training data]\n",
    "\n",
    "**Figure 3은 우리의 데이터셋이 plot 상에서 직선에 의해 positive와 negative examples가 분리될 수 없음을 보여준다. 따라서, logistic regression의 직선 응용은 이 데이터셋상에 잘 수행될 수 없다. 왜냐하면 logistic regression은 linear decision boundary만 찾을 수 있기 때문이다.**"
   ]
  },
  {
   "cell_type": "code",
   "execution_count": 24,
   "metadata": {
    "collapsed": false
   },
   "outputs": [
    {
     "data": {
      "text/plain": [
       "<matplotlib.legend.Legend at 0x288d42077f0>"
      ]
     },
     "execution_count": 24,
     "metadata": {},
     "output_type": "execute_result"
    },
    {
     "data": {
      "image/png": "[encoded data removed]",
      "text/plain": [
       "<matplotlib.figure.Figure at 0x288d4272d30>"
      ]
     },
     "metadata": {},
     "output_type": "display_data"
    }
   ],
   "source": [
    "## Machine Learning Online Class - Exercise 2: Logistic Regression\n",
    "\n",
    "import numpy as np\n",
    "import matplotlib.pyplot as plt\n",
    "\n",
    "# 데이터를 로드한다.\n",
    "# 처음 2개의 컬럼은 X 값을 포함하고 세번째 컬럼은 label (y)를 포함한다.\n",
    "\n",
    "data = np.loadtxt('ex2data2.txt', delimiter=',')\n",
    "X = data[:, 0:2]\n",
    "y = data[:, 2]\n",
    "\n",
    "plotData(X, y)\n",
    "\n",
    "# 라벨과 legend 설정\n",
    "plt.xlabel('Microchip Test 1')\n",
    "plt.ylabel('Microchip Test 2')\n",
    "\n",
    "# plot 순서로 지정한다.\n",
    "plt.legend(('y=1', 'y=0'), loc='upper right')\n"
   ]
  },
  {
   "cell_type": "markdown",
   "metadata": {},
   "source": [
    "\n",
    "\n",
    "### 2.2 Feature mapping\n",
    "\n",
    "**data를 더 잘 맞게(fit) 하는 방법은 각각의 data point 로 부터 더 많은 feature를 생성하는 것이다.** 제공된 함수 mapFeature.m 에서 **feature들을 다항식 항목인 x1과 x2를 이용해서 6차까지 매핑할 것이다.**\n",
    "\n",
    "[수식]\n",
    "\n",
    "이 매핑의 결과로 2개의 feature로(2개의 QA 테스트의 점수) 이루어진 벡터는 28 dimension vector로 변환된다.\n",
    "\n",
    "**고차원의 피처 벡터 상에서 훈련된 logistic regression classifier는** 더 복잡한 decision boundary를 갖게 되고 **2차 평면에 그려질 때 nonlinear (직선이 아닌) 로 나타나게 된다.**\n",
    "\n",
    "**feature mapping 이 더욱 표현이 좋은 분류기를 구축하지만 반면에 overfitting 에 더욱 민감해 진다.** 연습문제의 나머지에서 regularized logistic regression 을 구현해서 data를 fit 하게 되고 **regularization 이 어떻게 overffiting 과 싸우는데 도움이 되는지 직접 확인할 것이다.**\n",
    "\n"
   ]
  },
  {
   "cell_type": "markdown",
   "metadata": {},
   "source": [
    "### 2.3 Cost function and gradient\n",
    "\n",
    "이제 regularized logistic regression 에 대한 cost function 과 gradient를 계산하는 코드를 구현할 것이다. costFunctionReg.m 내의 코드를 완성해서 cost와 gradient를 반환하도록 해라.\n",
    "\n",
    "logistic regression의 regularized cost function은 다음과 같다.\n",
    "\n",
    "[수식]\n",
    "\n",
    "**파라미터 $ \\theta_{0} $는 regularize 하지 않음을 주의해라.** Octave/MATLAB에서, 인덱싱은 1부터 시작한다. 따라서 theta(1) (theta0에 일치하는) 는 regularizing 하면 안된다. \n",
    "\n",
    "cost function의 gradient 는 벡터인데 j-번째 요소는 다음처럼 정의 된다.\n",
    "\n",
    "[수식]\n",
    "\n",
    "일단 완성하면, ex2_reg.m은 costFunctionReg 함수를 호출하는데 theta의 초기값(모두 0으로 초기화된)을 사용한다. 당신은 cost가 약 0.693임을 보아야 한다.\n",
    "\n",
    "_You should now submit your solutions._\n"
   ]
  },
  {
   "cell_type": "code",
   "execution_count": 29,
   "metadata": {
    "collapsed": false
   },
   "outputs": [
    {
     "name": "stdout",
     "output_type": "stream",
     "text": [
      "[[  1.00000000e+00   5.12670000e-02   6.99560000e-01   2.62830529e-03\n",
      "    3.58643425e-02   4.89384194e-01   1.34745327e-04   1.83865725e-03\n",
      "    2.50892595e-02   3.42353606e-01   6.90798869e-06   9.42624411e-05\n",
      "    1.28625106e-03   1.75514423e-02   2.39496889e-01   3.54151856e-07\n",
      "    4.83255257e-06   6.59422333e-05   8.99809795e-04   1.22782870e-02\n",
      "    1.67542444e-01   1.81563032e-08   2.47750473e-07   3.38066048e-06\n",
      "    4.61305487e-05   6.29470940e-04   8.58939846e-03   1.17205992e-01]\n",
      " [  1.00000000e+00  -9.27420000e-02   6.84940000e-01   8.60107856e-03\n",
      "   -6.35227055e-02   4.69142804e-01  -7.97681228e-04   5.89122275e-03\n",
      "   -4.35092419e-02   3.21334672e-01   7.39785525e-05  -5.46363780e-04\n",
      "    4.03513411e-03  -2.98012201e-02   2.20094970e-01  -6.86091891e-06\n",
      "    5.06708697e-05  -3.74226408e-04   2.76382476e-03  -2.04120477e-02\n",
      "    1.50751849e-01   6.36295342e-07  -4.69931780e-06   3.47065055e-05\n",
      "   -2.56322636e-04   1.89305413e-03  -1.39810280e-02   1.03255971e-01]]\n",
      "Cost at initial theta (zeros): 0.693147\n"
     ]
    }
   ],
   "source": [
    "## =========== Part 1: Regularized Logistic Regression ============\n",
    "# 이 파트에서, 선형으로 분리될 수 없는 데이터 포인트를 가진 데이터셋이\n",
    "# 주어진다. 어쨌든, 당신은 logtistic regression을 사용해서 데이터 포인트를\n",
    "# 분류하고 싶어할 것이다.\n",
    "#\n",
    "# 그렇게 하기 위해서, 당신은 더 많은 feature를 사용해야 하는데 -- 특별히 \n",
    "# 데이터 행렬에 polynomial features를 추가한다. (polynomial regression과 유사하다)\n",
    "\n",
    "# Polynomial features를 추가한다.\n",
    "# mapFeature는 intercept term(절편 항목)인 1의 컬럼을 추가한다.\n",
    "\n",
    "def mapFeature(X1, X2):\n",
    "    \"\"\"\n",
    "    주어진 데이터를 다항식 항목의 feature로 갯수를 늘려준다.\n",
    "    \"\"\"\n",
    "    \n",
    "    degree = 6\n",
    "    \n",
    "    #print(X1.shape)\n",
    "    \n",
    "    m = np.size(X1)\n",
    "    out = np.ones(m) # 1로 채워진 절편 컬럼 벡터\n",
    "    \n",
    "    # XXX: 벡터 단위로 계산된 내용을 list에 추가하는 방식이 편하다.\n",
    "    # 계산된 컬럼 벡터를 list에 추가한다.\n",
    "    # res = [[1,1,1,], [2,2,2,], [3,3,3,]]\n",
    "    res = []\n",
    "    res.append(out)\n",
    "    \n",
    "    for i in np.arange(1, degree + 1):\n",
    "        for j in np.arange(0, i + 1):\n",
    "            # ***************************************************************\n",
    "            # XXX: 아래와 같은 수식은 어떻게 만드는걸까?\n",
    "            # ***************************************************************\n",
    "            out1 = (X1 ** (i - j)) * (X2 ** j)\n",
    "            res.append(out1)\n",
    "    \n",
    "    # list에 저장된 것을 2차원 array 벡터로 변환하고 전치 시켜서 반환한다.\n",
    "    return np.array(res).T\n",
    "\n",
    "def costFunctionReg(theta, X, y, s_lambda):\n",
    "    \n",
    "    \"\"\"\n",
    "    regularization을 가진 logistic regression 의 cost와 gradient를 계산한다.\n",
    "    \"\"\"\n",
    "    \n",
    "    m, n = X.shape\n",
    "    #m = np.size(y) # training examples 갯수\n",
    "    \n",
    "    # 아래 값을 올바르게 반환해야 한다.\n",
    "    J = 0\n",
    "    grad = np.zeros(np.size(theta))\n",
    "    \n",
    "    \"\"\"\n",
    "    cost는 J 값으로 설정한다. 편미분을 계산하고 결과를 grad에 설정한다.\n",
    "    \n",
    "    힌트: cost 함수와 gradient 계산은 효율적으로 벡터화될 수 있다. 예를 들어 다음\n",
    "    계산을 생각해보자. \n",
    "    \n",
    "    sigmoid(X * theta)\n",
    "    \n",
    "    결과 행렬의 각 row는 해당 example의 예측값이 된다. \n",
    "    \n",
    "    힌트: regularized cost 함수의 gradient를 계산할 때, 많은 벡터화 솔루션이 있지만\n",
    "    한가지 가능한 방법은 아래와 같다\n",
    "    \n",
    "    grad = = (unregularized gradient for logistic regression)\n",
    "    temp = theta; \n",
    "    temp(1) = 0;   % because we don't add anything for j = 0  \n",
    "    grad = grad + YOUR_CODE_HERE (using the temp variable)\n",
    " \n",
    "    \"\"\"\n",
    "    \n",
    "    # sum_theta_square는 theta[0]를 포함하지 않는다. \n",
    "    sum_theta_square = np.sum(theta[1:] ** 2)\n",
    "    \n",
    "    # 예측값을 계산한다.\n",
    "    X_theta = X.dot(theta)\n",
    "    prediction = sigmoid(X_theta)\n",
    "\n",
    "    # cost J를 계산한다.\n",
    "    J = 1/m * np.sum(-y * log(prediction) - (1 - y) * log(1 - prediction)) \\\n",
    "        + s_lambda / (2 * m) * sum_theta_square\n",
    "        \n",
    "    # 편미분을 계산한다.\n",
    "    error = prediction - y\n",
    "    delta = 1/m * error.T.dot(X)\n",
    "    \n",
    "    temp = theta\n",
    "    temp[0] = 0\n",
    "    regular = (s_lambda / m) * temp\n",
    "    \n",
    "    grad = delta + regular\n",
    "    \n",
    "    return J, grad\n",
    "\n",
    "# mapFeature는 1의 컬럼을 추가하고 있음을 주의해라. 따라서 절편 항목은 처리된다.\n",
    "# X_reg: 118 x 28 dimension, 절편이 포함되어 있다.\n",
    "X_reg = mapFeature(X[:, 0], X[:, 1])\n",
    "\n",
    "print(X_reg[0:2, :])\n",
    "\n",
    "# fitting 파라미터를 초기화한다.\n",
    "# initial_theta: 28 x 1\n",
    "initial_theta = np.zeros(X_reg.shape[1])\n",
    "\n",
    "# regularization 파라미터 lambda를 1로 설정한다.\n",
    "# lambda 는 python 키워드이기 때문에 변수명을 s_lambda로 사용한다.\n",
    "s_lambda = 1\n",
    "\n",
    "# regularized logistic regression 에 대한 초기 cost 와 gradient 를 계산하고 표시한다.\n",
    "cost, grad = costFunctionReg(initial_theta, X_reg, y, s_lambda)\n",
    "\n",
    "# cost is 0.69314718056 and grad is [  8.47457627e-03   1.87880932e-02   7.77711864e-05   5.03446395e-02\n",
    "print('Cost at initial theta (zeros): %f' % cost)\n"
   ]
  },
  {
   "cell_type": "markdown",
   "metadata": {
    "collapsed": true
   },
   "source": [
    "# TODO\n",
    "costFunctionReg.m 을 작성한다.\n",
    "\n",
    "주의사항: theta0를 regularize 하면 안된다."
   ]
  },
  {
   "cell_type": "code",
   "execution_count": 17,
   "metadata": {
    "collapsed": false
   },
   "outputs": [
    {
     "ename": "NameError",
     "evalue": "name 'myGradientReg' is not defined",
     "output_type": "error",
     "traceback": [
      "\u001b[0;31m---------------------------------------------------------------------------\u001b[0m",
      "\u001b[0;31mNameError\u001b[0m                                 Traceback (most recent call last)",
      "\u001b[0;32m<ipython-input-17-58e6acf7ccf9>\u001b[0m in \u001b[0;36m<module>\u001b[0;34m()\u001b[0m\n\u001b[1;32m     25\u001b[0m \u001b[0;31m# regularized\u001b[0m\u001b[0;34m\u001b[0m\u001b[0;34m\u001b[0m\u001b[0m\n\u001b[1;32m     26\u001b[0m \u001b[0;31m#j, g = costFunctionReg(thetat, Xt, yt, 3)\u001b[0m\u001b[0;34m\u001b[0m\u001b[0;34m\u001b[0m\u001b[0m\n\u001b[0;32m---> 27\u001b[0;31m \u001b[0mg\u001b[0m \u001b[0;34m=\u001b[0m \u001b[0mmyGradientReg\u001b[0m\u001b[0;34m(\u001b[0m\u001b[0mthetat\u001b[0m\u001b[0;34m,\u001b[0m \u001b[0mXt\u001b[0m\u001b[0;34m,\u001b[0m \u001b[0myt\u001b[0m\u001b[0;34m,\u001b[0m \u001b[0;36m3\u001b[0m\u001b[0;34m)\u001b[0m\u001b[0;34m\u001b[0m\u001b[0m\n\u001b[0m\u001b[1;32m     28\u001b[0m \u001b[0;31m# note: also works for ex3 lrCostFunction(theta, X, y, 3)\u001b[0m\u001b[0;34m\u001b[0m\u001b[0;34m\u001b[0m\u001b[0m\n\u001b[1;32m     29\u001b[0m \u001b[0;34m\u001b[0m\u001b[0m\n",
      "\u001b[0;31mNameError\u001b[0m: name 'myGradientReg' is not defined"
     ]
    }
   ],
   "source": [
    "\n",
    "Xt = np.array([[1, 8, 1, 6],\n",
    "    [1, 3, 5, 7],\n",
    "    [1, 4, 9, 2]])\n",
    "yt = np.array([1, 0, 1])\n",
    "thetat = np.array([-2, -1, 1, 2])\n",
    "\n",
    "j = 0\n",
    "g = 0\n",
    "# un-regularized\n",
    "#j, g = costFunctionReg(thetat, Xt, yt, 0)\n",
    "# note: also works for [j g] = costFunction(theta, X, y)\n",
    "\n",
    "#print(j, g)\n",
    "# results\n",
    "#j = 4.6832\n",
    "\n",
    "#g =\n",
    "#  0.31722\n",
    "#  0.87232\n",
    "#  1.64812\n",
    "#  2.23787\n",
    "\n",
    "\n",
    "# regularized\n",
    "#j, g = costFunctionReg(thetat, Xt, yt, 3)\n",
    "g = myGradientReg(thetat, Xt, yt, 3)\n",
    "# note: also works for ex3 lrCostFunction(theta, X, y, 3)\n",
    "\n",
    "print(j, g)\n",
    "# results\n",
    "#j = 7.6832\n",
    "\n",
    "#g =\n",
    "#  0.31722\n",
    "#  -0.12768\n",
    "#  2.64812\n",
    "#  4.23787\n",
    "\n"
   ]
  },
  {
   "cell_type": "markdown",
   "metadata": {
    "collapsed": true
   },
   "source": [
    "### Part 2: Regularization and Accuracies\n",
    "\n",
    "여기서는 lambda값을 서로 다르게 했을 때, regularization 이 decision boundary에 어떤 영향을 미치는지 알아보도록 한다.\n",
    "\n",
    "lambda를 0, 1, 10, 100으로 각각 설정해본다.\n",
    "\n",
    "이때 decision boundary와 training set의 accuracy가 어떻게 변화하는가?"
   ]
  },
  {
   "cell_type": "code",
   "execution_count": 18,
   "metadata": {
    "collapsed": false
   },
   "outputs": [
    {
     "name": "stdout",
     "output_type": "stream",
     "text": [
      "Cost at theta found by fminunc: 0.529002729964. \n",
      "\n",
      "theta: [ 1.27271026  0.62529964  1.18111686 -2.019874   -0.91743188 -1.43166926\n",
      "  0.12393228 -0.36553119 -0.35725405 -0.17516292 -1.45817008 -0.05098418\n",
      " -0.61558558 -0.27469165 -1.192713   -0.24217841 -0.20603302 -0.04466177\n",
      " -0.27778948 -0.29539514 -0.45645982 -1.04319154  0.02779374 -0.29244865\n",
      "  0.01555759 -0.32742404 -0.14389149 -0.92467488]. \n",
      "\n"
     ]
    }
   ],
   "source": [
    "# minimize 함수 호출을 사용하기 위해 import 한다.\n",
    "import scipy.optimize as op\n",
    "\n",
    "# octave 에서는 costFunction 안에서 cost와 gradient를 한꺼번에 계산했다.\n",
    "# python 에서는 minimize () 사용을 위해서 cost와 gradient 계산을 분리한다.\n",
    "\n",
    "def myCostReg(theta, X, y, s_lambda):\n",
    "    \"\"\"\n",
    "    cost J를 계산한다.\n",
    "    \"\"\"\n",
    "    # 출력될 값을 미리 선언한다.\n",
    "    J = 0\n",
    "    grad = np.zeros(np.size(theta))\n",
    "    \n",
    "    m, n = X.shape\n",
    "\n",
    "    # 1) cost J(theta) 값을 구한다.\n",
    "    # theta 는 array 타입이다. 따라서 요소 제곱합이 계산된다.\n",
    "    sum_theta_square = np.sum(theta[1:] ** 2)\n",
    "\n",
    "    # 예측값에 대한 sigmoid를 구한다.\n",
    "    predictions = sigmoid(X.dot(theta))\n",
    "    \n",
    "    # 비용 cost J를 구한다.\n",
    "    J = 1/m * np.sum(-y * log(predictions) - (1 - y) * log(1 - predictions)) \\\n",
    "        + s_lambda / (2 * m) * sum_theta_square\n",
    "    \n",
    "    return J\n",
    "\n",
    "def myGradientReg2(theta, X, y, s_lamdba):\n",
    "    j, g = costFunctionReg(theta, X, y, s_lambda)\n",
    "\n",
    "    return g\n",
    "\n",
    "def myGradientReg(theta, X, y, s_lambda):\n",
    "    \"\"\"\n",
    "    gradient를 계산한다.\n",
    "    \"\"\"    \n",
    "    # 출력될 값을 미리 선언한다.\n",
    "    J = 0\n",
    "    grad = np.zeros(np.size(theta))\n",
    "    \n",
    "    m, n = X.shape\n",
    "    \n",
    "    # 예측값에 대한 sigmoid를 구한다.\n",
    "    predictions = sigmoid(X.dot(theta))\n",
    "    \n",
    "    # 2) theta 편미분 값을 구한다.\n",
    "    # theta_0 에 대한 편미분값을 구한다.\n",
    "    errors = predictions - y\n",
    "    \n",
    "    # Part 1과 Part 2는 같은 식이지만, minimize 수행 시 \n",
    "    # 서로 다른 gradient를 가진다. 왜???? -_-;\n",
    "    \n",
    "    \"\"\"\n",
    "    # *****************************************\n",
    "    # Part 1: \n",
    "    delta = 1/m * errors.T.dot(X)\n",
    "    \n",
    "    temp = theta\n",
    "    temp[0] = 0\n",
    "    regular = (s_lambda / m) * temp\n",
    "    \n",
    "    grad = delta + regular\n",
    "    \"\"\" \n",
    "    \n",
    "    # *****************************************\n",
    "    # Part 2: \n",
    "    # 1) cost J(theta) 값을 구한다.\n",
    "    \n",
    "    theta_0 = theta[0]\n",
    "    theta_j = theta[1:]\n",
    "    \n",
    "    # 첫번째 컬럼 bias에 대해서 계산\n",
    "    delta_0 = 1/m * errors.T.dot(X[:, 0]) \n",
    "\n",
    "    # theta_j 에 대한 편미분값을 구한다.\n",
    "    delta_j = 1/m * errors.T.dot(X[:, 1:])\n",
    "    \n",
    "    # regularization term 계산\n",
    "    regular = s_lambda / m * theta_j    \n",
    "    delta_j = delta_j.T + regular\n",
    "    \n",
    "    grad[0] = delta_0\n",
    "    grad[1:] = delta_j.T\n",
    "    \n",
    "    #print(grad[0])\n",
    "    \n",
    "    return grad\n",
    "\n",
    "\n",
    "\n",
    "initial_theta = np.zeros(X_reg.shape[1])\n",
    "#s_lambda = 0 # cost = 0.257\n",
    "s_lambda = 1 # cost = 0.529\n",
    "#s_lambda = 10 # cost = 0.648\n",
    "#s_lambda = 100 # cost = 0.686\n",
    "\n",
    "Result = op.minimize(fun = myCostReg, x0 = initial_theta, args = (X_reg, y, s_lambda), \\\n",
    "                     method = 'TNC', jac = myGradientReg, options = {'maxiter': 400});\n",
    "\n",
    "cost = Result.fun\n",
    "theta = Result.x\n",
    "\n",
    "# In Octave: Cost at theta found by fminunc: 0.529004\n",
    "print('Cost at theta found by fminunc: %s. \\n' % cost)\n",
    "\n",
    "\"\"\"\n",
    "In Octave: \n",
    "theta: \n",
    " 1.273005 \n",
    " 0.624876 \n",
    " 1.177376 \n",
    " -2.020142 \n",
    " -0.912616 \n",
    " -1.429907 \n",
    "\"\"\"\n",
    "print('theta: %s. \\n' % theta)\n"
   ]
  },
  {
   "cell_type": "markdown",
   "metadata": {},
   "source": [
    "plotDecisionBoundary.m, we plot the non-linear decision boundary by com- puting the classifier’s predictions on an evenly spaced grid and then and drew a contour plot of where the predictions change from y = 0 to y = 1.\n",
    "\n",
    "plotDecisionBoundary.m 은 비선형 decision boundary를 그리는데, 평형공간상의 그리드에 분류자의 예측을 계산하고 y=0에서 y=1일 때의 예측 변화를 contour plot으로 그린다."
   ]
  },
  {
   "cell_type": "code",
   "execution_count": 19,
   "metadata": {
    "collapsed": false
   },
   "outputs": [
    {
     "name": "stdout",
     "output_type": "stream",
     "text": [
      "(50,)\n"
     ]
    },
    {
     "data": {
      "text/plain": [
       "<matplotlib.legend.Legend at 0x1157e9400>"
      ]
     },
     "execution_count": 19,
     "metadata": {},
     "output_type": "execute_result"
    },
    {
     "data": {
      "image/png": "[encoded data removed]",
      "text/plain": [
       "<matplotlib.figure.Figure at 0x1157e98d0>"
      ]
     },
     "metadata": {},
     "output_type": "display_data"
    }
   ],
   "source": [
    "# 경계선을 그린다.\n",
    "plotDecisionBoundary(theta, X_reg, y)\n",
    "plt.xlabel('Microchip Test 1')\n",
    "plt.ylabel('Microchip Test 2')\n",
    "# 경계선을 그린다.\n",
    "\n",
    "plt.legend(('y=1', 'y=0', 'Decision boundary'), loc='upper right')\n"
   ]
  },
  {
   "cell_type": "code",
   "execution_count": 84,
   "metadata": {
    "collapsed": false
   },
   "outputs": [
    {
     "name": "stdout",
     "output_type": "stream",
     "text": [
      "Train Accuracy: 0.533898305085\n"
     ]
    }
   ],
   "source": [
    "# training set에 대한 정확도(accuracy)를 계산한다.\n",
    "\n",
    "p = predict(theta, X_reg)\n",
    "\n",
    "# In Octave: Train Accuracy: 83.050847\n",
    "print('Train Accuracy: %s' % np.mean(double(p == y)))"
   ]
  },
  {
   "cell_type": "code",
   "execution_count": null,
   "metadata": {
    "collapsed": true
   },
   "outputs": [],
   "source": []
  }
 ],
 "metadata": {
  "kernelspec": {
   "display_name": "Python 3",
   "language": "python",
   "name": "python3"
  },
  "language_info": {
   "codemirror_mode": {
    "name": "ipython",
    "version": 3
   },
   "file_extension": ".py",
   "mimetype": "text/x-python",
   "name": "python",
   "nbconvert_exporter": "python",
   "pygments_lexer": "ipython3",
   "version": "3.5.1"
  }
 },
 "nbformat": 4,
 "nbformat_minor": 0
}
