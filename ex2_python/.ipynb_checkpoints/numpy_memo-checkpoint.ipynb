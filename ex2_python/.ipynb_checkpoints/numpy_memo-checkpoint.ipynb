{
 "cells": [
  {
   "cell_type": "code",
   "execution_count": 17,
   "metadata": {
    "collapsed": false
   },
   "outputs": [
    {
     "name": "stdout",
     "output_type": "stream",
     "text": [
      "[[1 2 3]\n",
      " [6 7 8]]\n",
      "ndarray shape is %s. (2, 3)\n",
      "ndarray type is %s. int32\n",
      "ndarray type is %s. <class 'numpy.ndarray'>\n"
     ]
    }
   ],
   "source": [
    "# numpy 사용법\n",
    "import numpy as np\n",
    "\n",
    "A = np.array([[1,2,3], [6,7,8]])\n",
    "print(A)\n",
    "print('ndarray shape is %s.', A.shape)\n",
    "print('ndarray type is %s.', A.dtype)\n",
    "print('ndarray type is %s.', type(A))\n"
   ]
  },
  {
   "cell_type": "code",
   "execution_count": 18,
   "metadata": {
    "collapsed": false
   },
   "outputs": [
    {
     "data": {
      "text/plain": [
       "array([[ 0.,  0.,  0.,  0.,  0.,  0.],\n",
       "       [ 0.,  0.,  0.,  0.,  0.,  0.],\n",
       "       [ 0.,  0.,  0.,  0.,  0.,  0.]])"
      ]
     },
     "execution_count": 18,
     "metadata": {},
     "output_type": "execute_result"
    }
   ],
   "source": [
    "# 다차원 배열 생성\n",
    "np.zeros(10)\n",
    "np.zeros((3, 6))"
   ]
  },
  {
   "cell_type": "code",
   "execution_count": 31,
   "metadata": {
    "collapsed": false
   },
   "outputs": [
    {
     "name": "stdout",
     "output_type": "stream",
     "text": [
      "B array \n",
      " [[1 0 1]\n",
      " [0 1 0]]\n",
      "C array \n",
      " [[1 2]\n",
      " [3 4]\n",
      " [5 6]]\n",
      "A * B \n",
      " [[1 0 3]\n",
      " [0 7 0]]\n",
      "A.dot(B)\n",
      " [[22 28]\n",
      " [67 88]]\n",
      "[[ 2  4  6]\n",
      " [12 14 16]]\n"
     ]
    },
    {
     "data": {
      "text/plain": [
       "array([[ 2,  4,  6],\n",
       "       [12, 14, 16]])"
      ]
     },
     "execution_count": 31,
     "metadata": {},
     "output_type": "execute_result"
    }
   ],
   "source": [
    "# array 에서 * 는 요소곱을 나타낸다. 행렬곱은 .dot() 함수를 사용한다.\n",
    "# matrix에서 * 는 행렬곱을 나타낸다. 요소곱은 .multiply() 함수를 사용한다.\n",
    "\n",
    "# 함수 사용원칙\n",
    "# 1) 함수 내에서는 matrix 화 해서 사용한다.\n",
    "# 2) 내적은 *, 요소곱은 .multiply()를 사용한다.\n",
    "# 3) 자료 반환은 array로 반환한다.\n",
    "\n",
    "B = np.array([[1, 0, 1], [0, 1, 0]])\n",
    "C = np.array([[1, 2], [3, 4], [5, 6]])\n",
    "\n",
    "print('B array \\n', B)\n",
    "print('C array \\n', C)\n",
    "\n",
    "print('A * B \\n', A * B) # 요소곱\n",
    "print('A.dot(B)\\n', data.dot(C)) # 내적\n",
    "\n",
    "print(A * 2) # 요소곱, 벡터화\n",
    "np.multiply(A, 2) # array에 multiply()는 요소곱이다."
   ]
  },
  {
   "cell_type": "code",
   "execution_count": 29,
   "metadata": {
    "collapsed": false
   },
   "outputs": [],
   "source": [
    "# matrix 연산\n",
    "\n",
    "Am = np.matrix(A)\n",
    "Bm = np.matrix(B)\n",
    "Cm = np.matrix(C)"
   ]
  },
  {
   "cell_type": "code",
   "execution_count": 36,
   "metadata": {
    "collapsed": false
   },
   "outputs": [
    {
     "data": {
      "text/plain": [
       "matrix([[1, 0, 3],\n",
       "        [0, 7, 0]])"
      ]
     },
     "execution_count": 36,
     "metadata": {},
     "output_type": "execute_result"
    }
   ],
   "source": [
    "np.multiply(Am, Bm)"
   ]
  },
  {
   "cell_type": "code",
   "execution_count": 34,
   "metadata": {
    "collapsed": false
   },
   "outputs": [
    {
     "data": {
      "text/plain": [
       "matrix([[22, 28],\n",
       "        [67, 88]])"
      ]
     },
     "execution_count": 34,
     "metadata": {},
     "output_type": "execute_result"
    }
   ],
   "source": [
    "Am.dot(Cm)"
   ]
  },
  {
   "cell_type": "code",
   "execution_count": 42,
   "metadata": {
    "collapsed": false
   },
   "outputs": [
    {
     "data": {
      "text/plain": [
       "matrix([[ 1,  4,  9],\n",
       "        [ 6, 14, 24]])"
      ]
     },
     "execution_count": 42,
     "metadata": {},
     "output_type": "execute_result"
    }
   ],
   "source": [
    "np.multiply(Am, [1, 2, 3])"
   ]
  },
  {
   "cell_type": "code",
   "execution_count": null,
   "metadata": {
    "collapsed": true
   },
   "outputs": [],
   "source": []
  }
 ],
 "metadata": {
  "kernelspec": {
   "display_name": "Python 3",
   "language": "python",
   "name": "python3"
  },
  "language_info": {
   "codemirror_mode": {
    "name": "ipython",
    "version": 3
   },
   "file_extension": ".py",
   "mimetype": "text/x-python",
   "name": "python",
   "nbconvert_exporter": "python",
   "pygments_lexer": "ipython3",
   "version": "3.5.1"
  }
 },
 "nbformat": 4,
 "nbformat_minor": 0
}
