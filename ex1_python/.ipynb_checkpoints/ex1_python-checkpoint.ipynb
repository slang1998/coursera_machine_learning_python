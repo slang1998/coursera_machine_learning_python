{
 "cells": [
  {
   "cell_type": "markdown",
   "metadata": {},
   "source": [
    "# Programming Exercise 1: Linear Regression\n",
    "\n",
    "```\n",
    "by Seokkyu Kong\n",
    "Date: 2016-03-06\n",
    "Summary: 코세라 기계학습 강의 연습문제 1번을 Octave에서 Python으로 code migration 한다.\n",
    "```\n",
    "\n",
    "Coursera machine learning (Prof. Andrew Ng) 강의 내용과 assignment는 octave(matlab)으로 이루어진다. \n",
    "해당 코드를 python으로 구현해본다.\n",
    "\n",
    "[Numpy for Matlab users #1](https://docs.scipy.org/doc/numpy-dev/user/numpy-for-matlab-users.html)\n",
    "\n",
    "[NumPy for MATLAB users #2](http://mathesaurus.sourceforge.net/matlab-numpy.html)\n",
    "\n",
    "## Introduction\n",
    "\n",
    "이 연습문제에서는 Linear Regression을 구현하고, 어떻게 동작하는지 확인한다.\n",
    "\n",
    "\n",
    "## ex1: Linear regression with one variable"
   ]
  },
  {
   "cell_type": "code",
   "execution_count": 135,
   "metadata": {
    "collapsed": false
   },
   "outputs": [
    {
     "name": "stdout",
     "output_type": "stream",
     "text": [
      "Populating the interactive namespace from numpy and matplotlib\n"
     ]
    }
   ],
   "source": [
    "%pylab inline"
   ]
  },
  {
   "cell_type": "code",
   "execution_count": 136,
   "metadata": {
    "collapsed": true
   },
   "outputs": [],
   "source": [
    "# matrix 자료처리와 그래프\n",
    "import numpy as np\n",
    "import matplotlib.pyplot as plt\n",
    "import pandas as pd\n"
   ]
  },
  {
   "cell_type": "markdown",
   "metadata": {},
   "source": [
    "### Part 1: Basic Function\n",
    "warmUpExercise\n",
    "A = eye(5) 와 동일하다."
   ]
  },
  {
   "cell_type": "code",
   "execution_count": 272,
   "metadata": {
    "collapsed": false
   },
   "outputs": [
    {
     "data": {
      "text/plain": [
       "array([[ 1.,  0.,  0.,  0.,  0.],\n",
       "       [ 0.,  1.,  0.,  0.,  0.],\n",
       "       [ 0.,  0.,  1.,  0.,  0.],\n",
       "       [ 0.,  0.,  0.,  1.,  0.],\n",
       "       [ 0.,  0.,  0.,  0.,  1.]])"
      ]
     },
     "execution_count": 272,
     "metadata": {},
     "output_type": "execute_result"
    }
   ],
   "source": [
    "np.eye(5)"
   ]
  },
  {
   "cell_type": "markdown",
   "metadata": {},
   "source": [
    "## 2. Linear regression with one variable\n",
    "\n",
    "여기서는 음식 트럭의 이윤을 예측한다고 하자. 당신은 식당 프랜차이즈의 CEO이고 새로운 아웃렛을 오픈하기 위해 여러 도시를 고려하고 있다고 하자.\n",
    "\n",
    "ex1data1.txt는 분석을 위한 데이터인데, 첫번째 컬럼은 도시의 인구수이고 두번째 컬럼은 해당 도시에서 음식 트럭의 이윤이다. 이윤에 대한 마이너스 값은 손실을 의미한다.\n",
    "\n",
    "### 2.1 Plotting the Data\n",
    "\n",
    "어떤 작업을 시작하기 전에 데이터를 그래프로 그려보는 것은 데이터를 이해하는데 종종 도움이 된다. 이 데이터에 대해서 산점도를 그리는데, 이윤과 인구수 2가지 속성을 가지고 있기 때문이다.\n",
    "\n",
    "### Part 2: Plotting"
   ]
  },
  {
   "cell_type": "code",
   "execution_count": 298,
   "metadata": {
    "collapsed": false
   },
   "outputs": [
    {
     "name": "stdout",
     "output_type": "stream",
     "text": [
      "(97,)\n"
     ]
    }
   ],
   "source": [
    "# *************************************************************************\n",
    "# XXX: pandas에서 읽은 데이터는 항상 np.array 또는 np.matrix로 변환한다. \n",
    "# 그렇지 않으면 데이터 추출 시 TypeError: unhashable type: 'slice' 오류 발생함\n",
    "# pandas에서는 컬럼 추출 시 data[column_index]와 같은 식으로 사용한다.\n",
    "# 앞으로 별다른 언급이 없으면 함수 내에서 모든 포맷은 matrix 포맷이다.\n",
    "# *************************************************************************\n",
    "# data: 97x2\n",
    "# 첫번째 컬럼은 데이터 x, 두번째 컬럼은 label y\n",
    "data = pd.read_csv('./ex1data1.txt', header=None)\n",
    "data = np.array(data)\n",
    "X = data[:,0]\n",
    "y = data[:,1]\n",
    "m = np.size(X, 0) # == X.shape[0], np.shape(X)\n",
    "\n",
    "print(X.shape)"
   ]
  },
  {
   "cell_type": "code",
   "execution_count": 299,
   "metadata": {
    "collapsed": false
   },
   "outputs": [
    {
     "data": {
      "image/png": "[encoded data removed]",
      "text/plain": [
       "<matplotlib.figure.Figure at 0x115b7c2b0>"
      ]
     },
     "metadata": {},
     "output_type": "display_data"
    }
   ],
   "source": [
    "# 그래프를 그린다.\n",
    "# XXX: scatter(): 산점도를 그린다.\n",
    "# c: 색상, s: 사이즈, marker: 표시모양\n",
    "plt.scatter(X, y, marker='x', c='r', s=10)\n",
    "plt.ylabel('Profit in $10,000s')\n",
    "plt.xlabel('Population of City in 10,000s')\n",
    "plt.show()"
   ]
  },
  {
   "cell_type": "markdown",
   "metadata": {},
   "source": [
    "### 2.2 Gradient Descent\n",
    "\n",
    "여기에서는 gradient descent를 이용해서 데이터 셋에 대한 linear regression parameter theta를 fit(적절한 값을 맞추어서 구하다) 하게 될 것이다.\n",
    "\n",
    "##### 2.2.1 Update Equations\n",
    "\n",
    "linear regression의 목적은 cost function을 최소화 시키는 것이다.\n",
    "여기서 가설함수 hypothesis h(x)는 linear model로 주어진다.\n",
    "\n",
    "모델의 파라미터는 theta 값이다. 이들 값은 cost J(theta)를 최소화 하기 위해 조절하는 값들이 된다. 즉, 이 값들을 조절해서 cost J(theta)를 최소화 하는 theta 값을 찾는다. 이렇게 하기 위한 한가지 방법은 batch gradient descent algorithm을 사용하는 것이다. batch gradient descent에서, 각각의 반복은 업데이트를 수행하는데 gradient descent의 각 단계에서 파라미터 theta.j는 cost J를 가장 작게 하는 최적화 값으로 수렴된다. (점점 비슷하게 다가간다)\n",
    "\n",
    "__Implementation Note__: 우리는 각각의 example을 X 행렬의 row로 저장한다. 따라서 절편 항목 intercept term 인 theta0 는 X 행렬에 첫번째 컬럼으로 모두 1인 컬럼벡터를 추가하면 되고, theta0를 단순히 다른 feature로 다룰 수 있게 해준다.\n",
    "\n",
    "#### 2.2.2 Implementation\n",
    "\n",
    "ex1.m 에서 linear regression에 대한 데이터를 이미 준비했다. 여기서 절편 항목 intercept term theta0를 추가한다. 우리는 또한 초기 파라미터를 0으로 설정하고 학습률 learning rate 인 alpha는 0.01로 한다.\n",
    "\n",
    "\n",
    "#### 2.2.3 Computing the cost J(theta)\n",
    "\n",
    "cost function J(theta)를 최소하하기 위해 gradient descent를 수행하면서, cost를 계산한 후 수렴하는지 모니터링 하는 것이 도움이 된다. 이 섹션에서는 J(theta)를 계산하는 함수를 구현하고 gradient descent의 구현이 수렴하는지 체크할 것이다. \n",
    "\n",
    "다음 과제는 computeCost.m 내의 코드를 완성하는 것인데, 그것은 J(theta)를 계산하는 함수이다. 이 작업을 하면서, 기억할 것은 변수 X와 y는 스칼라 scalar 값이 아니고, 트레이닝 셋에서 example를 나타내는 rows로 구성된 행렬이라는 것이다.\n",
    "\n",
    "cost는 32.07이 될 것이다.\n",
    "\n",
    "\n",
    "### Part 3: Gradient Descent"
   ]
  },
  {
   "cell_type": "code",
   "execution_count": 300,
   "metadata": {
    "collapsed": false
   },
   "outputs": [
    {
     "name": "stdout",
     "output_type": "stream",
     "text": [
      "a size = 3, dim = 1, shape = (3,)\n",
      "a size = 3, dim = 2, shape = (1, 3)\n",
      "a size = 6, dim = 2, shape = (2, 3)\n",
      "\n",
      "m1 size = 3, dim = 2, shape = (1, 3)\n",
      "m1 size = 3, dim = 2, shape = (1, 3)\n",
      "m1 size = 6, dim = 2, shape = (2, 3)\n"
     ]
    }
   ],
   "source": [
    "# np.array 테스트 코드\n",
    "a = np.array([1, 2, 3])\n",
    "print('a size = %s, dim = %s, shape = %s' % (a.size, a.ndim, a.shape))\n",
    "\n",
    "a = np.array([[1, 2, 3]])\n",
    "print('a size = %s, dim = %s, shape = %s' % (a.size, a.ndim, a.shape))\n",
    "\n",
    "a = np.array([[1, 2, 3], [4, 5, 6]])\n",
    "print('a size = %s, dim = %s, shape = %s' % (a.size, a.ndim, a.shape))\n",
    "\n",
    "print()\n",
    "\n",
    "# np.matrix 테스트 코드\n",
    "m1 = np.matrix([1, 2, 3])\n",
    "print('m1 size = %s, dim = %s, shape = %s' % (m1.size, m1.ndim, m1.shape))\n",
    "\n",
    "m1 = np.matrix([[1, 2, 3]])\n",
    "print('m1 size = %s, dim = %s, shape = %s' % (m1.size, m1.ndim, m1.shape))\n",
    "\n",
    "m1 = np.matrix([[1, 2, 3], [4, 5, 6]])\n",
    "print('m1 size = %s, dim = %s, shape = %s' % (m1.size, m1.ndim, m1.shape))\n"
   ]
  },
  {
   "cell_type": "code",
   "execution_count": 301,
   "metadata": {
    "collapsed": false
   },
   "outputs": [],
   "source": [
    "# ********************************************************************\n",
    "# XXX: np.ones 사용 시 생성할 매트릭스 포맷을 그대로 전달하게끔 습관화한다.\n",
    "# np.ones, hstack 모두 인자를 하나만 받는다. ex: np.ones(a), hstack(b)\n",
    "# ********************************************************************\n",
    "# 절편(intercept) 항목을 추가한다.\n",
    "\n",
    "X = np.zeros((m, 2))\n",
    "X[:, 0] = np.ones(m)\n",
    "X[:, 1] = data[:, 0]\n",
    "\n",
    "# 아래 코드도 같은 결과임.\n",
    "#X = hstack((np.ones((m, 1)), data[:, 0]))\n",
    "\n",
    "theta = np.zeros(2)"
   ]
  },
  {
   "cell_type": "code",
   "execution_count": 302,
   "metadata": {
    "collapsed": false
   },
   "outputs": [
    {
     "data": {
      "text/plain": [
       "32.072733877455676"
      ]
     },
     "execution_count": 302,
     "metadata": {},
     "output_type": "execute_result"
    }
   ],
   "source": [
    "\n",
    "def computeCost(X, y, theta):\n",
    "    \"\"\"\n",
    "    비용함수 J: 예상값(predictions)과 실제값(y)의 오차제곱합을 구한다.\n",
    "    \"\"\"\n",
    "    m, n = X.shape\n",
    "    J = 0\n",
    "    \n",
    "    # X: 97x2, theta: 2x1\n",
    "    predictions = X.dot(theta)\n",
    "    #print(predictions.shape)\n",
    "    \n",
    "    errors = (predictions - y)        \n",
    "    J = 1 / (2 * m) * np.sum(errors ** 2)\n",
    "    \n",
    "    return J\n",
    "\n",
    "\n",
    "iterations = 1500\n",
    "alpha = 0.01\n",
    "\n",
    "ans = computeCost(X, y, theta)\n",
    "\n",
    "ans\n",
    "# 답: 32.073"
   ]
  },
  {
   "cell_type": "markdown",
   "metadata": {},
   "source": [
    "#### 2.2.4 Gradient descent\n",
    "\n",
    "다음 단계는 gradientDescent.m을 구현하는 것이다. loop 구조가 사용되었고, 각 반복내에서 단지 theta 만 업데이트 하면 된다.\n",
    "\n",
    "프로그램 하면서, 최적화하려고 하는 것이 무엇이고 무엇이 업데이트 되는지 이해하고 있는지 확인하라. cost J(theta)는 theta에 의해서 파라미터화 된다. X와 y가 아니다. 즉, __우리는 X와 y가 아닌 theta를 변경함으로써 J(theta)의 값을 최소화 시키는 것이다.__\n",
    "\n",
    "gradient descent가 올바르게 동작하는지 확인하는 좋은 방법은 J(theta)의 값을 보고 그 값이 매 단계마다 감소하는지 체크하는 것이다. gradientDescent.m은 매 반복마다 computeCost를 호출하고 그 cost 비용을 출력한다. 만약 gradinet descent와 computeCost를 올바르게 구현했다면 J(theta)의 값은 절대 증가하지 않아야 한다. 그리고 알고리즘 끝에 가서는 일정한 값으로 수렴되어야 한다.\n",
    "\n",
    "완료 이후, ex1.m 은 마지막 파라미터를 이용해서 linear fit을 plot할 것이다. 이 결과는 Figure 2.와 비슷하게 보일것이다. \n",
    "\n",
    "최종 theta값은 35,000과 70,000 명이 사는 지역의 이윤을 예측하기 위해 사용될 것이다. \n",
    "\n",
    "예측하기 위해서 명시적인 summation 이나 looping 보다는 행렬 곱셈을 사용하는 것을 주목하라. 이것은 Octave/MATLAB에서 벡터화된 코드의 예제이다.\n"
   ]
  },
  {
   "cell_type": "code",
   "execution_count": 303,
   "metadata": {
    "collapsed": false
   },
   "outputs": [
    {
     "name": "stdout",
     "output_type": "stream",
     "text": [
      "Theta found by gradient descent: -3.630291 1.166362\n"
     ]
    },
    {
     "data": {
      "text/plain": [
       "array([ 4.48338826])"
      ]
     },
     "execution_count": 303,
     "metadata": {},
     "output_type": "execute_result"
    }
   ],
   "source": [
    "def gradientDescent(X, y, theta, alpha, num_iters):\n",
    "    \"\"\"\n",
    "    기울기 최소함수: cost J가 가장 작게 나오는 theta를 구한다.\n",
    "    \"\"\"\n",
    "    m = size(y)\n",
    "    J_history = np.zeros((num_iters, 1))\n",
    "    \n",
    "    for iter in range(num_iters):\n",
    "        \n",
    "        predictions = X.dot(theta)\n",
    "        errors = predictions - y\n",
    "        \n",
    "        delta = (1 / m) * errors.T.dot(X)\n",
    "        theta = theta - alpha * delta.T\n",
    "        \n",
    "        J_history[iter, 0] = computeCost(X, y, theta)\n",
    "        \n",
    "    return theta, J_history\n",
    "        \n",
    "theta1, j = gradientDescent(X, y, theta, alpha, iterations)\n",
    "# Theta found by gradient descent: -3.630291 1.166362\n",
    "print('Theta found by gradient descent: %f %f' % (theta1[0], theta1[1]))\n",
    "\n",
    "# 최소비용\n",
    "j[-1]"
   ]
  },
  {
   "cell_type": "code",
   "execution_count": 304,
   "metadata": {
    "collapsed": false
   },
   "outputs": [
    {
     "data": {
      "text/plain": [
       "[<matplotlib.lines.Line2D at 0x11538eef0>,\n",
       " <matplotlib.lines.Line2D at 0x11538e518>]"
      ]
     },
     "execution_count": 304,
     "metadata": {},
     "output_type": "execute_result"
    },
    {
     "data": {
      "image/png": "[encoded data removed]",
      "text/plain": [
       "<matplotlib.figure.Figure at 0x115bbd550>"
      ]
     },
     "metadata": {},
     "output_type": "display_data"
    }
   ],
   "source": [
    "plt.plot(X[:,1], X*theta1)"
   ]
  },
  {
   "cell_type": "code",
   "execution_count": 305,
   "metadata": {
    "collapsed": false
   },
   "outputs": [
    {
     "name": "stdout",
     "output_type": "stream",
     "text": [
      "ans1 = 4519.767868, ans2 = 45342.450129\n"
     ]
    }
   ],
   "source": [
    "# x1이 3.5, 7일 때의 예측값\n",
    "predict1 = np.sum([1, 3.5] * theta1)\n",
    "predict2 = np.sum([1, 7] * theta1)\n",
    "\n",
    "# ans1 = 4519.767868, ans2 = 45342.450129\n",
    "print(\"ans1 = %f, ans2 = %f\" % (predict1 * 10000, predict2 * 10000))"
   ]
  },
  {
   "cell_type": "markdown",
   "metadata": {},
   "source": [
    "### 2.3 Debugging\n",
    "\n",
    "여기에 gradient descent를 구현하면서 기억할 만한 몇 가지 내용이 있다.\n",
    "\n",
    "* Octave/MATLAB 배열은 0이 아닌 1부터 인덱스가 시작한다. 만약 theta로 불리는 벡터에 theta0, theta1을 저장한다면 값은 theta(1), tehat(2)가 될 것이다.\n",
    "\n",
    "* 실행시에 많은 에러를 본다면, matrix 연산을 검사해서 matrix 를 더하고 곱할 때 dimension이 일치하는지 확인해야 한다. size를 이용해서 변수의 dimension을 출력하는 것은 디버깅하는데 도움을 준다. (python에서는 .shape 를 출력해 보는 것이 도움이 된다.)\n",
    "\n",
    "* 기본적으로 Octave/MATLAB은 수학 연산을 matrix 연산으로 해석한다. 만약 행렬 곱셈을 원하지 않는다면 \"dot\" 표시를 추가할 필요가 있다. 예를 들어, A * B는 행렬 곱셈이고, A .* B는 요소 곱셈이다. (python에서는 np.array에서 내적은 A.dot(B)로 하고 np.matrix에서는 A * B로 한다.)"
   ]
  },
  {
   "cell_type": "code",
   "execution_count": 321,
   "metadata": {
    "collapsed": false
   },
   "outputs": [
    {
     "data": {
      "image/png": "[encoded data removed]",
      "text/plain": [
       "<matplotlib.figure.Figure at 0x11680ae48>"
      ]
     },
     "metadata": {},
     "output_type": "display_data"
    },
    {
     "data": {
      "text/plain": [
       "[<matplotlib.lines.Line2D at 0x117f6a588>]"
      ]
     },
     "execution_count": 321,
     "metadata": {},
     "output_type": "execute_result"
    },
    {
     "data": {
      "image/png": "[encoded data removed]",
      "text/plain": [
       "<matplotlib.figure.Figure at 0x117f6a5f8>"
      ]
     },
     "metadata": {},
     "output_type": "display_data"
    }
   ],
   "source": [
    "# XXX: 아래 그래프는 작업 중\n",
    "\n",
    "## Part 4: Visualizing J(theta_0, theta_1)\n",
    "\n",
    "theta0_vals = linspace(-10, 10, 100)\n",
    "theta1_vals = linspace(-1, 4, 100)\n",
    "\n",
    "# J_vals를 0으로 초기화된 매트릭스로 구성한다.\n",
    "J_vals = np.zeros((np.size(theta0_vals), np.size(theta1_vals)))\n",
    "\n",
    "# J_vals값을 채운다.\n",
    "\n",
    "for i in np.arange(np.size(theta0_vals)):\n",
    "    for j in np.arange(np.size(theta1_vals)):\n",
    "        t = [theta0_vals[i], theta1_vals[1]]\n",
    "        J_vals[i, j] = computeCost(X, y, t)\n",
    "        \n",
    "# surf 명령어에서 meshgrids가 동작하는 방식때문에, surf를 호출하기 전에 \n",
    "# J_vals값을 전치시킬 필요가 있다. 그렇지 않으면 축이 뒤집어 질 것이다.\n",
    "J_vals = J_vals.T\n",
    "\n",
    "from mpl_toolkits.mplot3d import Axes3D\n",
    "fig = plt.figure()\n",
    "ax = fig.add_subplot(111, projection='3d')\n",
    "ax.plot_surface(theta0_vals, theta1_vals, J_vals)\n",
    "plt.show()\n",
    "\n",
    "# Contour plot\n",
    "plt.contour(theta0_vals, theta1_vals, J_vals, logspace(-2, 3, 20))\n",
    "#plt.contour(theta0_vals, theta1_vals, J_vals)\n",
    "plt.xlabel('theta_0')\n",
    "plt.ylabel('theta_1')\n",
    "\n",
    "plt.plot(theta[0], theta[1], 'x', c='r');\n",
    "\n",
    "# In Octave, theta1 = -3.630291, theta2 = 1.166362"
   ]
  },
  {
   "cell_type": "markdown",
   "metadata": {
    "collapsed": true
   },
   "source": [
    "# Optional\n",
    "\n",
    "# Part 1: Feature Nomalization"
   ]
  },
  {
   "cell_type": "code",
   "execution_count": 247,
   "metadata": {
    "collapsed": false
   },
   "outputs": [],
   "source": [
    "data = pd.read_csv('ex1data2.txt', header=None)\n",
    "data = np.array(data)\n",
    "\n",
    "X = data[:, 0:2]\n",
    "y = data[:,2]\n",
    "m = np.size(y, 0)\n"
   ]
  },
  {
   "cell_type": "code",
   "execution_count": 248,
   "metadata": {
    "collapsed": true
   },
   "outputs": [],
   "source": [
    "def featureNormalize(X):\n",
    "    \"\"\"\n",
    "    피쳐 정규화 함수: 각각의 피쳐는 단위가 다르기 때문에 평균이 0이고 표준편차가 1인\n",
    "    정규화 값으로 변환된다.\n",
    "    \"\"\"\n",
    "    X_norm = X\n",
    "    \n",
    "    #m, n = X.shape\n",
    "    m = X.shape[0]\n",
    "    \n",
    "    # sum(), mean(), std() 함수는 np.xxx 전역함수도 있으며\n",
    "    # 행렬의 method로도 호출이 가능하다.\n",
    "    # 0은 column 단위 연산, 1은 row 단위 연산 적용\n",
    "    mu = np.mean(X_norm, 0) # mu = X_norm.mean(0)\n",
    "    sigma = np.std(X_norm, 0)\n",
    "    \n",
    "    # np.tile()을 사용하나 그냥 사용하나 동일한 결과이다.\n",
    "    # X_norm = (X_norm - np.tile(mu, (m, 1))) / np.tile(sigma, (m, 1))\n",
    "    X_norm = (X_norm - mu) / sigma\n",
    "    \n",
    "    return X_norm, mu, sigma\n",
    "    "
   ]
  },
  {
   "cell_type": "code",
   "execution_count": 249,
   "metadata": {
    "collapsed": false
   },
   "outputs": [
    {
     "data": {
      "text/plain": [
       "'\\nIn Octave:\\n\\n   0.13001  -0.22368\\n  -0.50419  -0.22368\\n   0.50248  -0.22368\\n  -0.73572  -1.53777\\n   1.25748   1.09042\\n'"
      ]
     },
     "execution_count": 249,
     "metadata": {},
     "output_type": "execute_result"
    }
   ],
   "source": [
    "# X의 피쳐를 정규화 시키고 평균 mu, 표준편차 sigma를 저장한다.\n",
    "X_norm, mu, sigma = featureNormalize(X)\n",
    "\n",
    "\"\"\"\n",
    "In Octave:\n",
    "\n",
    "   0.13001  -0.22368\n",
    "  -0.50419  -0.22368\n",
    "   0.50248  -0.22368\n",
    "  -0.73572  -1.53777\n",
    "   1.25748   1.09042\n",
    "\"\"\""
   ]
  },
  {
   "cell_type": "code",
   "execution_count": 250,
   "metadata": {
    "collapsed": false
   },
   "outputs": [],
   "source": [
    "# 절편(intercept) 항목을 추가한다.\n",
    "m, n = X_norm.shape\n",
    "X_norm = hstack((np.ones((m, 1)), X_norm))"
   ]
  },
  {
   "cell_type": "code",
   "execution_count": 251,
   "metadata": {
    "collapsed": false
   },
   "outputs": [
    {
     "name": "stdout",
     "output_type": "stream",
     "text": [
      "[[ 1.          0.13141542 -0.22609337]\n",
      " [ 1.         -0.5096407  -0.22609337]\n",
      " [ 1.          0.5079087  -0.22609337]\n",
      " [ 1.         -0.74367706 -1.5543919 ]\n",
      " [ 1.          1.27107075  1.10220517]]\n"
     ]
    }
   ],
   "source": [
    "print(X_norm[0:5, :])\n"
   ]
  },
  {
   "cell_type": "markdown",
   "metadata": {},
   "source": [
    "# Part 2: Gradient Descent"
   ]
  },
  {
   "cell_type": "code",
   "execution_count": 252,
   "metadata": {
    "collapsed": true
   },
   "outputs": [],
   "source": [
    "def computeCostMulti(X, y, theta):\n",
    "    \"\"\"\n",
    "    비용함수 J: 다변량 X에 대해서 예상값(predictions)과 실제값(y)의 오차제곱합을 구한다.\n",
    "    \"\"\"\n",
    "    m = size(y)\n",
    "    \n",
    "    J = 0\n",
    "    \n",
    "    # X: 97x2, theta: 2x1\n",
    "    predictions = X.dot(theta)\n",
    "    \n",
    "    errors = predictions - y\n",
    "    sqrErrors = errors ** 2\n",
    "    J = 1 / (2 * m) * np.sum(sqrErrors)\n",
    "    \n",
    "    return J\n"
   ]
  },
  {
   "cell_type": "code",
   "execution_count": 271,
   "metadata": {
    "collapsed": true
   },
   "outputs": [],
   "source": [
    "def gradientDescentMulti(X, y, theta, alpha, num_iters):\n",
    "    \"\"\"\n",
    "    기울기 최소화 함수: 다변량 X에 대해서 계산\n",
    "    이후 exercise 2에서 나오는 minimize() 함수와 같은 역할을 한다.\n",
    "    \"\"\"\n",
    "    m = size(y)\n",
    "    J_history = np.zeros((num_iters, 1))\n",
    "    \n",
    "    for iter in range(num_iters):\n",
    "        \n",
    "        predictions = X.dot(theta)\n",
    "        errors = predictions - y\n",
    "        \n",
    "        delta = (1 / m) * errors.T.dot(X)\n",
    "        theta = theta - alpha * delta.T\n",
    "        \n",
    "        J_history[iter, 0] = computeCostMulti(X, y, theta)\n",
    "        \n",
    "    return theta, J_history"
   ]
  },
  {
   "cell_type": "code",
   "execution_count": 254,
   "metadata": {
    "collapsed": false
   },
   "outputs": [
    {
     "name": "stdout",
     "output_type": "stream",
     "text": [
      "[ 334302.06399328   99411.44947359    3267.01285407]\n"
     ]
    }
   ],
   "source": [
    "# 1을 갖는 X 행렬을 이용해서 theta, J값을 구한다.\n",
    "alpha = 0.01\n",
    "num_iters = 400\n",
    "\n",
    "theta = np.zeros(3)\n",
    "\n",
    "theta, J_history = gradientDescentMulti(X_norm, y, theta, alpha, num_iters)\n",
    "\n",
    "print(theta)\n"
   ]
  },
  {
   "cell_type": "code",
   "execution_count": 255,
   "metadata": {
    "collapsed": false
   },
   "outputs": [
    {
     "data": {
      "text/plain": [
       "<matplotlib.text.Text at 0x113ab5400>"
      ]
     },
     "execution_count": 255,
     "metadata": {},
     "output_type": "execute_result"
    },
    {
     "data": {
      "image/png": "[encoded data removed]",
      "text/plain": [
       "<matplotlib.figure.Figure at 0x113cbfa20>"
      ]
     },
     "metadata": {},
     "output_type": "display_data"
    }
   ],
   "source": [
    "plt.plot(J_history)\n",
    "plt.xlabel('Number of iterations')\n",
    "plt.ylabel('Cost J')"
   ]
  },
  {
   "cell_type": "code",
   "execution_count": 256,
   "metadata": {
    "collapsed": false
   },
   "outputs": [
    {
     "name": "stdout",
     "output_type": "stream",
     "text": [
      "Theta computed from gradient descent\n",
      "[ 334302.06399328   99411.44947359    3267.01285407]\n"
     ]
    },
    {
     "data": {
      "text/plain": [
       "'\\nIn Octave:\\n\\nTheta computed from gradient descent: \\n 334302.063993 \\n 100087.116006 \\n 3673.548451\\n'"
      ]
     },
     "execution_count": 256,
     "metadata": {},
     "output_type": "execute_result"
    }
   ],
   "source": [
    "print('Theta computed from gradient descent')\n",
    "print('%s' % theta)\n",
    "\n",
    "\"\"\"\n",
    "In Octave:\n",
    "\n",
    "Theta computed from gradient descent: \n",
    " 334302.063993 \n",
    " 100087.116006 \n",
    " 3673.548451\n",
    "\"\"\""
   ]
  },
  {
   "cell_type": "code",
   "execution_count": 258,
   "metadata": {
    "collapsed": false
   },
   "outputs": [
    {
     "name": "stdout",
     "output_type": "stream",
     "text": [
      "my alpha is 0.3\n",
      "my alpha is 0.1\n",
      "my alpha is 0.03\n",
      "my alpha is 0.01\n",
      "top 5: arr_J\n"
     ]
    },
    {
     "data": {
      "text/plain": [
       "[<matplotlib.lines.Line2D at 0x114e21d30>]"
      ]
     },
     "execution_count": 258,
     "metadata": {},
     "output_type": "execute_result"
    },
    {
     "data": {
      "image/png": "[encoded data removed]",
      "text/plain": [
       "<matplotlib.figure.Figure at 0x1148b6e80>"
      ]
     },
     "metadata": {},
     "output_type": "display_data"
    }
   ],
   "source": [
    "# 최적의 alpha값을 찾는다.\n",
    "# alpha와 반복횟수를 조절하면서 alpha값을 찾는다.\n",
    "\n",
    "arr_alpha = [0.3, 0.1, 0.03, 0.01]\n",
    "num_iters = 50\n",
    "arr_J = np.zeros((num_iters, len(arr_alpha)))\n",
    "i = 0;\n",
    "for my_alpha in arr_alpha:\n",
    "    print('my alpha is %s' % my_alpha)\n",
    "    theta = np.zeros(3)\n",
    "    theta, J_history = gradientDescentMulti(X_out, y, theta, my_alpha, num_iters)\n",
    "    arr_J[:, i] = J_history.T\n",
    "    i = i + 1\n",
    "    \n",
    "print('top 5: arr_J')\n",
    "arr_J[0:5, :]\n",
    "\n",
    "plt.plot(arr_J[0:50, 0], 'b')\n",
    "plt.plot(arr_J[0:50, 1], 'r--')\n",
    "plt.plot(arr_J[0:50, 2], 'k')\n",
    "plt.plot(arr_J[0:50, 3], 'y')\n",
    "\n",
    "# alpha = 0.1 에서 최적의 학습곡선이 보여지고 있다."
   ]
  },
  {
   "cell_type": "code",
   "execution_count": 263,
   "metadata": {
    "collapsed": false
   },
   "outputs": [
    {
     "name": "stdout",
     "output_type": "stream",
     "text": [
      "[ 338658.2492493   103322.82942954    -474.74249522]\n",
      "Predicted price of a 1650 sq-ft, 3 br house (Using gradient descent) 292679.07168\n"
     ]
    },
    {
     "data": {
      "text/plain": [
       "'\\nbest theta for gradient descent... \\ntheta =\\n\\n   3.3866e+05\\n   1.0413e+05\\n  -1.7221e+02\\n\\nnew_x =\\n\\n  -0.44127  -0.22368\\n\\nnew_x =\\n\\n   1.00000  -0.44127  -0.22368\\n\\nprice =    2.9275e+05\\nPredicted price of a 1650 sq-ft, 3 br house (using gradient descent):\\n $292748.085232\\n'"
      ]
     },
     "execution_count": 263,
     "metadata": {},
     "output_type": "execute_result"
    }
   ],
   "source": [
    "# 위에서 구해진 최적의 alpha와 num_iters를 설정한다.\n",
    "alpha = 0.1\n",
    "num_iters = 50\n",
    "theta = np.zeros(3)\n",
    "\n",
    "theta, J_history = gradientDescentMulti(X_norm, y, theta, alpha, num_iters)\n",
    "\n",
    "print(theta)\n",
    "\n",
    "# Estimate the price of a 1650 sq-ft, 3 br house\n",
    "price = 0\n",
    "new_x = np.array([1650, 3])\n",
    "\n",
    "\n",
    "# x 값을 정규화 시킨다.\n",
    "new_x = (new_x - mu) / sigma\n",
    "new_x = hstack(([np.ones(1), new_x]))\n",
    "\n",
    "# y(price)를 예측한다.\n",
    "price = new_x.dot(theta)\n",
    "\n",
    "# Predicted price of a 1650 sq-ft, 3 br house (Using gradient descent) [[ 293102.02381814]]\n",
    "print('Predicted price of a 1650 sq-ft, 3 br house (Using gradient descent) %s' % price)\n",
    "\n",
    "\n",
    "\"\"\"\n",
    "best theta for gradient descent... \n",
    "theta =\n",
    "\n",
    "   3.3866e+05\n",
    "   1.0413e+05\n",
    "  -1.7221e+02\n",
    "\n",
    "new_x =\n",
    "\n",
    "  -0.44127  -0.22368\n",
    "\n",
    "new_x =\n",
    "\n",
    "   1.00000  -0.44127  -0.22368\n",
    "\n",
    "price =    2.9275e+05\n",
    "Predicted price of a 1650 sq-ft, 3 br house (using gradient descent):\n",
    " $292748.085232\n",
    "\"\"\""
   ]
  },
  {
   "cell_type": "markdown",
   "metadata": {},
   "source": [
    "# Part 3: Normal Equation"
   ]
  },
  {
   "cell_type": "code",
   "execution_count": 264,
   "metadata": {
    "collapsed": false
   },
   "outputs": [],
   "source": [
    "data = pd.read_csv('ex1data2.txt', header=None)\n",
    "data = np.array(data)\n",
    "X = data[:, 0:2]\n",
    "y = data[:, 2]\n",
    "m = np.size(y, 0)\n",
    "\n",
    "# 절편(intercept) 항목을 추가한다.\n",
    "X = hstack((np.ones((m, 1)), X))\n"
   ]
  },
  {
   "cell_type": "code",
   "execution_count": 267,
   "metadata": {
    "collapsed": true
   },
   "outputs": [],
   "source": [
    "def normalEqn(X, y):\n",
    "    # 역행렬: A.I == linalg.inv(A)\n",
    "    #theta = linalg.inv(X.T * X) * X.T * y\n",
    "    m, n = X.shape\n",
    "    X = matrix(X)\n",
    "    y = y.reshape((m, 1))\n",
    "    y = matrix(y)\n",
    "    theta = (X.T * X).I * X.T * y\n",
    "    return theta"
   ]
  },
  {
   "cell_type": "code",
   "execution_count": 268,
   "metadata": {
    "collapsed": false
   },
   "outputs": [],
   "source": [
    "theta = normalEqn(X, y)\n",
    "\n",
    "\"\"\"\n",
    "matrix([[ 89597.9095428 ],\n",
    "        [   139.21067402],\n",
    "        [ -8738.01911233]])\n",
    "\"\"\""
   ]
  },
  {
   "cell_type": "code",
   "execution_count": 269,
   "metadata": {
    "collapsed": false
   },
   "outputs": [
    {
     "data": {
      "text/plain": [
       "matrix([[ 89597.9095428 ],\n",
       "        [   139.21067402],\n",
       "        [ -8738.01911233]])"
      ]
     },
     "execution_count": 269,
     "metadata": {},
     "output_type": "execute_result"
    }
   ],
   "source": [
    "theta"
   ]
  },
  {
   "cell_type": "code",
   "execution_count": 270,
   "metadata": {
    "collapsed": false
   },
   "outputs": [
    {
     "name": "stdout",
     "output_type": "stream",
     "text": [
      "Price is [[ 293081.46433489]]\n"
     ]
    }
   ],
   "source": [
    "# 1650 sq-ft, br3 인 집의 가격을 예측한다.\n",
    "# 위에서 gradientdescent 방식으로 구한 가격과 비슷함을 알 수 있다.\n",
    "price = 0\n",
    "\n",
    "new_x = [1, 1650, 3]\n",
    "price = new_x * theta\n",
    "\n",
    "# Price is [[ 293081.46433489]]\n",
    "print('Price is %s' % price)"
   ]
  },
  {
   "cell_type": "code",
   "execution_count": null,
   "metadata": {
    "collapsed": true
   },
   "outputs": [],
   "source": []
  }
 ],
 "metadata": {
  "kernelspec": {
   "display_name": "Python 3",
   "language": "python",
   "name": "python3"
  },
  "language_info": {
   "codemirror_mode": {
    "name": "ipython",
    "version": 3
   },
   "file_extension": ".py",
   "mimetype": "text/x-python",
   "name": "python",
   "nbconvert_exporter": "python",
   "pygments_lexer": "ipython3",
   "version": "3.5.0"
  }
 },
 "nbformat": 4,
 "nbformat_minor": 0
}
