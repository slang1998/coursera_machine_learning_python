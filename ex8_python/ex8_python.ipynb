{
 "cells": [
  {
   "cell_type": "markdown",
   "metadata": {
    "collapsed": true
   },
   "source": [
    "# Programming Exercise 8: Anomaly Detection and Recommender Systems\n",
    "\n",
    "```\n",
    "by Seokkyu Kong\n",
    "Date: 2016-04-01\n",
    "Summary: Coursera 코세라 machine learning 기계학습 강의 연습문제 8번을 Octave에서 Python으로 code migration 한다.\n",
    "```\n",
    "\n",
    "## Introduction\n",
    "\n",
    "이번 연습문제에서는, __anomaly detection algorithm 이상치 검출 알고리즘을 구현하고__ 네트워크 상에서 오동작 하는 서버들을 검출하기 위해 적용해볼 것이다. 2번째 부분에서, __영화 추천 시스템을 구축하기 위해 collaborative filtering 협업 필터링을__ 사용하게 된다.\n",
    "\n",
    "연습문제 첫번째 부분 (이상치 검출)을 통해서 스크립트 ex8.m을 사용하게 된다. 협업 필터링 2번째 부분에서는 ex8_cofi.m을 사용하게 된다. 이들 스크립트는 문제를 위한 데이터셋을 준비하고 당신이 작성한 함수들을 호출한다. 과제 내의 지시를 따르면서, 다른 파일에 있는 함수들만 수정해야 한다. \n",
    "\n",
    "## 1. Anomaly detection\n",
    "\n",
    "연습문제에서, 이상치 검출 알고리즘을 작성하고 서버 컴퓨터에 비정상 행위를 검출한다. 이들 feature는 각각 서버의 throughput (mb/s)와 latency (ms) 를 측정한다. 서버가 동작중일때, 서버가 어떻게 행동하는지에 대한 m = 307 examples를 수집한다. 그리고 이것은 라벨이 없는 데이터셋 $ \\{x^{(1)},,,x^{(m)} \\} $ 이 된다. 당신은 이들 examples의 대다수가 \"normal\" (non-anomalous) 정상적으로 동작하는 서버의 exmaples이고, 데이터셋 내에 비정상적으로 행동하는 서버의 몇몇 예제들이 있을 수 있다고 의심한다.\n",
    "\n",
    "__가우시안 모델을 이용해서 데이터셋 내의 비정상 examples를 검출하게 될 것이다.__ 먼저 2D 데이터셋에서 시작하는데 그것은 알고리즘이 하는 것을 가시화하게끔 만들어 준다. __그 데이터넷 상에서, 가우시안 분포를 fit하게 되고 장애로 생각될 수 있는 매우 낮은 확률을 가진 값을 찾는다. 그리고 난다음, 많은 차원을 가진 더 큰 데이터셋에 이상치 검출 알고리즘을 적용한다.__\n",
    "\n",
    "ex8.m의 첫 부분에서 그림 1에 보여진 것과 같이 데이터셋을 가시화한다.\n",
    "\n",
    "### 1.1 Gaussian distribution\n",
    "\n",
    "__이상치 검출을 수행하기 위해서, 데이터의 분포에 모델을 fit 적합시킬 필요가 있다.__\n",
    "\n",
    "__주어진 training set {x(1),,, x(m)} ( $ x^{(i)} \\in \\mathbb{R}^{n} $ ), 에서 x(i)에 대한 각각의 feature에 대한 가우시안 분포를 측정하고 싶어할 것이다.__ 각각의 feature i = 1,,,n 에 대해서 파라미터 $ \\mu _{i} $ , $ \\sigma _{i}^2 $을 찾을 필요가 있고 그것은 i번째 차원의 데이터 $ \\{ x_{i} ^{(1)}, ,,, x_{i} ^{(m)} \\} $ 에 fit 하게 된다. (각 example에서의 i번째 차원)\n",
    "\n",
    "가우시안 분포는 다음과 같이 주어진다.\n",
    "\n",
    "여기서 $ \\mu $ 는 평균이고 $ \\sigma^2 $ 은 분산을 제어한다.\n",
    "\n",
    "\n",
    "\n",
    "### 1.2 Estimating parameters for a Gaussian\n",
    "\n",
    "i-번째 feature에 대한 파라미터 $ ( \\mu_{i}, \\sigma^{2} ) $ 를 평가할 수 있는데 다음 방정식을 사용한다. 평균을 계산하기 위해서 아래처럼 사용한다.\n",
    "\n",
    "(1)\n",
    "\n",
    "그리고 분산에 대해서는 아래처럼 사용한다.\n",
    "\n",
    "(2)\n",
    "\n",
    "당신의 작업은 __estimateGaussian.m__ 내의 코드를 완성하는 것이다. 이 함수는 데이터 행렬 X를 입력으로 가지며 n 차원이 벡터 mu를 출력하는데 모든 n개 feature에 대한 평균을 담고 있다. 그리고 다른 n차원의 벡터 simga2를 출력하는데 모든 features에 대한 분산을 가지고 있다. \n",
    "\n",
    "이것을 각 feature와 각 example에 대해서 for-loop를 사용할 수 있다 (비록 벡터화 구현이 더욱 효율적이고, 만약 좋아한다면 벡터화 구현을 사용해보아라). __Octave/MATLAB에서 var 함수는 $ \\sigma^{2} $을 계산할 때, 1/m 대신에 (기본적으로) 1/(m-1)을 사용한다.__\n"
   ]
  },
  {
   "cell_type": "code",
   "execution_count": null,
   "metadata": {
    "collapsed": true
   },
   "outputs": [],
   "source": []
  }
 ],
 "metadata": {
  "kernelspec": {
   "display_name": "Python 3",
   "language": "python",
   "name": "python3"
  },
  "language_info": {
   "codemirror_mode": {
    "name": "ipython",
    "version": 3
   },
   "file_extension": ".py",
   "mimetype": "text/x-python",
   "name": "python",
   "nbconvert_exporter": "python",
   "pygments_lexer": "ipython3",
   "version": "3.5.1"
  }
 },
 "nbformat": 4,
 "nbformat_minor": 0
}
