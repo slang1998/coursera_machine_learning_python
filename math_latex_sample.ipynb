{
 "cells": [
  {
   "cell_type": "markdown",
   "metadata": {},
   "source": [
    "# 자주 쓰는 Math LaTex\n",
    "\n",
    "- $ x_{i} \\in \\{0, 1\\} $\n",
    "- $ x \\in \\mathbb{R}^{2} $\n",
    "- $ (x^{(i)}, x^{(j)}) $\n",
    "- $ \\frac{1}{\\lambda} $"
   ]
  },
  {
   "cell_type": "code",
   "execution_count": null,
   "metadata": {
    "collapsed": true
   },
   "outputs": [],
   "source": []
  }
 ],
 "metadata": {
  "kernelspec": {
   "display_name": "Python 3",
   "language": "python",
   "name": "python3"
  },
  "language_info": {
   "codemirror_mode": {
    "name": "ipython",
    "version": 3
   },
   "file_extension": ".py",
   "mimetype": "text/x-python",
   "name": "python",
   "nbconvert_exporter": "python",
   "pygments_lexer": "ipython3",
   "version": "3.5.1"
  }
 },
 "nbformat": 4,
 "nbformat_minor": 0
}
